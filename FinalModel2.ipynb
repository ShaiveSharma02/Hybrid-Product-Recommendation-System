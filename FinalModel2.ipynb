{
 "cells": [
  {
   "cell_type": "code",
   "execution_count": 83,
   "id": "9c7c93d0",
   "metadata": {},
   "outputs": [],
   "source": [
    "#Importing necessary libraries\n",
    "import os\n",
    "import numpy as np\n",
    "import pandas as pd\n",
    "import seaborn as sns\n",
    "import plotly.express as px\n",
    "import matplotlib.pyplot as plt\n",
    "from sklearn.model_selection import train_test_split\n",
    "from sklearn.compose import ColumnTransformer\n",
    "from sklearn.preprocessing import LabelEncoder\n",
    "from sklearn.metrics.pairwise import cosine_similarity\n",
    "from sklearn.model_selection import cross_validate\n",
    "from sklearn.metrics import mean_squared_error, mean_absolute_error, r2_score"
   ]
  },
  {
   "cell_type": "code",
   "execution_count": 84,
   "id": "f111990f",
   "metadata": {},
   "outputs": [],
   "source": [
    "# Read the sampled dataset\n",
    "sampled_dataset = pd.read_csv(\"sampled_dataset.csv\")"
   ]
  },
  {
   "cell_type": "code",
   "execution_count": 85,
   "id": "c85f8f93",
   "metadata": {},
   "outputs": [
    {
     "data": {
      "text/html": [
       "<div>\n",
       "<style scoped>\n",
       "    .dataframe tbody tr th:only-of-type {\n",
       "        vertical-align: middle;\n",
       "    }\n",
       "\n",
       "    .dataframe tbody tr th {\n",
       "        vertical-align: top;\n",
       "    }\n",
       "\n",
       "    .dataframe thead th {\n",
       "        text-align: right;\n",
       "    }\n",
       "</style>\n",
       "<table border=\"1\" class=\"dataframe\">\n",
       "  <thead>\n",
       "    <tr style=\"text-align: right;\">\n",
       "      <th></th>\n",
       "      <th>name</th>\n",
       "      <th>main_category</th>\n",
       "      <th>sub_category</th>\n",
       "      <th>image</th>\n",
       "      <th>link</th>\n",
       "      <th>ratings</th>\n",
       "      <th>no_of_ratings</th>\n",
       "      <th>discount_price</th>\n",
       "      <th>actual_price</th>\n",
       "    </tr>\n",
       "  </thead>\n",
       "  <tbody>\n",
       "    <tr>\n",
       "      <th>0</th>\n",
       "      <td>CHHILAKIYA Cotton Feel Glace Cotton Elastic Fi...</td>\n",
       "      <td>home &amp; kitchen</td>\n",
       "      <td>Home Furnishing</td>\n",
       "      <td>https://m.media-amazon.com/images/W/IMAGERENDE...</td>\n",
       "      <td>https://www.amazon.in/CHHILAKIYA-Cotton-Elasti...</td>\n",
       "      <td>NaN</td>\n",
       "      <td>NaN</td>\n",
       "      <td>₹599</td>\n",
       "      <td>₹1,299</td>\n",
       "    </tr>\n",
       "    <tr>\n",
       "      <th>1</th>\n",
       "      <td>Shining Jewel Gold Plated Pendant Mala for Men...</td>\n",
       "      <td>accessories</td>\n",
       "      <td>Jewellery</td>\n",
       "      <td>https://m.media-amazon.com/images/I/616IOVp+P5...</td>\n",
       "      <td>https://www.amazon.in/Shining-Jewel-Ganesha-Ru...</td>\n",
       "      <td>3.4</td>\n",
       "      <td>4</td>\n",
       "      <td>₹384</td>\n",
       "      <td>₹899</td>\n",
       "    </tr>\n",
       "    <tr>\n",
       "      <th>2</th>\n",
       "      <td>Home Plus 250 Watts Electric Vegetable Chopper...</td>\n",
       "      <td>appliances</td>\n",
       "      <td>Kitchen &amp; Home Appliances</td>\n",
       "      <td>https://m.media-amazon.com/images/I/51A2VtSVTN...</td>\n",
       "      <td>https://www.amazon.in/Homeplus-Electric-Choppe...</td>\n",
       "      <td>4.2</td>\n",
       "      <td>233</td>\n",
       "      <td>₹1,139</td>\n",
       "      <td>₹1,999</td>\n",
       "    </tr>\n",
       "    <tr>\n",
       "      <th>3</th>\n",
       "      <td>Bajaj 500 Watt GX-1 Mixer Grinder with 3 Jars-...</td>\n",
       "      <td>appliances</td>\n",
       "      <td>All Appliances</td>\n",
       "      <td>https://m.media-amazon.com/images/W/IMAGERENDE...</td>\n",
       "      <td>https://www.amazon.in/Bajaj-GX-1-500-Watt-Mixe...</td>\n",
       "      <td>4.0</td>\n",
       "      <td>20,488</td>\n",
       "      <td>₹2,289</td>\n",
       "      <td>₹3,850</td>\n",
       "    </tr>\n",
       "    <tr>\n",
       "      <th>4</th>\n",
       "      <td>Label RITU KUMAR Sequre Neck Strappy Printed L...</td>\n",
       "      <td>women's clothing</td>\n",
       "      <td>Western Wear</td>\n",
       "      <td>https://m.media-amazon.com/images/I/81aB6gbO7g...</td>\n",
       "      <td>https://www.amazon.in/Label-RITU-KUMAR-Strappy...</td>\n",
       "      <td>NaN</td>\n",
       "      <td>NaN</td>\n",
       "      <td>₹2,250</td>\n",
       "      <td>₹4,500</td>\n",
       "    </tr>\n",
       "    <tr>\n",
       "      <th>...</th>\n",
       "      <td>...</td>\n",
       "      <td>...</td>\n",
       "      <td>...</td>\n",
       "      <td>...</td>\n",
       "      <td>...</td>\n",
       "      <td>...</td>\n",
       "      <td>...</td>\n",
       "      <td>...</td>\n",
       "      <td>...</td>\n",
       "    </tr>\n",
       "    <tr>\n",
       "      <th>9995</th>\n",
       "      <td>PKST 14\" Big LED Ring Light for Photo and Vide...</td>\n",
       "      <td>tv, audio &amp; cameras</td>\n",
       "      <td>Cameras</td>\n",
       "      <td>https://m.media-amazon.com/images/I/61uYBqcIi3...</td>\n",
       "      <td>https://www.amazon.in/Compatible-Camera-Smartp...</td>\n",
       "      <td>5.0</td>\n",
       "      <td>2</td>\n",
       "      <td>₹1,995</td>\n",
       "      <td>₹3,499</td>\n",
       "    </tr>\n",
       "    <tr>\n",
       "      <th>9996</th>\n",
       "      <td>RANI SAAHIBA Women's Chiffon Floral Print Sare...</td>\n",
       "      <td>women's clothing</td>\n",
       "      <td>Ethnic Wear</td>\n",
       "      <td>https://m.media-amazon.com/images/W/IMAGERENDE...</td>\n",
       "      <td>https://www.amazon.in/RANI-SAAHIBA-Chiffon-Wit...</td>\n",
       "      <td>3.4</td>\n",
       "      <td>30</td>\n",
       "      <td>₹399</td>\n",
       "      <td>₹1,599</td>\n",
       "    </tr>\n",
       "    <tr>\n",
       "      <th>9997</th>\n",
       "      <td>Van Heusen Men's Plain Slim Fit Formal Shirt</td>\n",
       "      <td>men's clothing</td>\n",
       "      <td>Shirts</td>\n",
       "      <td>https://m.media-amazon.com/images/I/619fNz3KSE...</td>\n",
       "      <td>https://www.amazon.in/Van-Heusen-Plain-Formal-...</td>\n",
       "      <td>NaN</td>\n",
       "      <td>NaN</td>\n",
       "      <td>₹1,449</td>\n",
       "      <td>₹2,699</td>\n",
       "    </tr>\n",
       "    <tr>\n",
       "      <th>9998</th>\n",
       "      <td>SHAUN Men Trackpent (631MNP3)</td>\n",
       "      <td>sports &amp; fitness</td>\n",
       "      <td>All Exercise &amp; Fitness</td>\n",
       "      <td>https://m.media-amazon.com/images/I/81NVORNtCk...</td>\n",
       "      <td>https://www.amazon.in/Shaun-Cotton-Trackpant-M...</td>\n",
       "      <td>3.4</td>\n",
       "      <td>102</td>\n",
       "      <td>₹953</td>\n",
       "      <td>₹1,999</td>\n",
       "    </tr>\n",
       "    <tr>\n",
       "      <th>9999</th>\n",
       "      <td>Hykes Knee Cap Compression Support for Gym Run...</td>\n",
       "      <td>beauty &amp; health</td>\n",
       "      <td>Health &amp; Personal Care</td>\n",
       "      <td>https://m.media-amazon.com/images/W/IMAGERENDE...</td>\n",
       "      <td>https://www.amazon.in/Hykes-Compression-Suppor...</td>\n",
       "      <td>4.2</td>\n",
       "      <td>5,610</td>\n",
       "      <td>₹719</td>\n",
       "      <td>₹1,499</td>\n",
       "    </tr>\n",
       "  </tbody>\n",
       "</table>\n",
       "<p>10000 rows × 9 columns</p>\n",
       "</div>"
      ],
      "text/plain": [
       "                                                   name        main_category  \\\n",
       "0     CHHILAKIYA Cotton Feel Glace Cotton Elastic Fi...       home & kitchen   \n",
       "1     Shining Jewel Gold Plated Pendant Mala for Men...          accessories   \n",
       "2     Home Plus 250 Watts Electric Vegetable Chopper...           appliances   \n",
       "3     Bajaj 500 Watt GX-1 Mixer Grinder with 3 Jars-...           appliances   \n",
       "4     Label RITU KUMAR Sequre Neck Strappy Printed L...     women's clothing   \n",
       "...                                                 ...                  ...   \n",
       "9995  PKST 14\" Big LED Ring Light for Photo and Vide...  tv, audio & cameras   \n",
       "9996  RANI SAAHIBA Women's Chiffon Floral Print Sare...     women's clothing   \n",
       "9997       Van Heusen Men's Plain Slim Fit Formal Shirt       men's clothing   \n",
       "9998                      SHAUN Men Trackpent (631MNP3)     sports & fitness   \n",
       "9999  Hykes Knee Cap Compression Support for Gym Run...      beauty & health   \n",
       "\n",
       "                   sub_category  \\\n",
       "0               Home Furnishing   \n",
       "1                     Jewellery   \n",
       "2     Kitchen & Home Appliances   \n",
       "3                All Appliances   \n",
       "4                  Western Wear   \n",
       "...                         ...   \n",
       "9995                    Cameras   \n",
       "9996                Ethnic Wear   \n",
       "9997                     Shirts   \n",
       "9998     All Exercise & Fitness   \n",
       "9999     Health & Personal Care   \n",
       "\n",
       "                                                  image  \\\n",
       "0     https://m.media-amazon.com/images/W/IMAGERENDE...   \n",
       "1     https://m.media-amazon.com/images/I/616IOVp+P5...   \n",
       "2     https://m.media-amazon.com/images/I/51A2VtSVTN...   \n",
       "3     https://m.media-amazon.com/images/W/IMAGERENDE...   \n",
       "4     https://m.media-amazon.com/images/I/81aB6gbO7g...   \n",
       "...                                                 ...   \n",
       "9995  https://m.media-amazon.com/images/I/61uYBqcIi3...   \n",
       "9996  https://m.media-amazon.com/images/W/IMAGERENDE...   \n",
       "9997  https://m.media-amazon.com/images/I/619fNz3KSE...   \n",
       "9998  https://m.media-amazon.com/images/I/81NVORNtCk...   \n",
       "9999  https://m.media-amazon.com/images/W/IMAGERENDE...   \n",
       "\n",
       "                                                   link ratings no_of_ratings  \\\n",
       "0     https://www.amazon.in/CHHILAKIYA-Cotton-Elasti...     NaN           NaN   \n",
       "1     https://www.amazon.in/Shining-Jewel-Ganesha-Ru...     3.4             4   \n",
       "2     https://www.amazon.in/Homeplus-Electric-Choppe...     4.2           233   \n",
       "3     https://www.amazon.in/Bajaj-GX-1-500-Watt-Mixe...     4.0        20,488   \n",
       "4     https://www.amazon.in/Label-RITU-KUMAR-Strappy...     NaN           NaN   \n",
       "...                                                 ...     ...           ...   \n",
       "9995  https://www.amazon.in/Compatible-Camera-Smartp...     5.0             2   \n",
       "9996  https://www.amazon.in/RANI-SAAHIBA-Chiffon-Wit...     3.4            30   \n",
       "9997  https://www.amazon.in/Van-Heusen-Plain-Formal-...     NaN           NaN   \n",
       "9998  https://www.amazon.in/Shaun-Cotton-Trackpant-M...     3.4           102   \n",
       "9999  https://www.amazon.in/Hykes-Compression-Suppor...     4.2         5,610   \n",
       "\n",
       "     discount_price actual_price  \n",
       "0              ₹599       ₹1,299  \n",
       "1              ₹384         ₹899  \n",
       "2            ₹1,139       ₹1,999  \n",
       "3            ₹2,289       ₹3,850  \n",
       "4            ₹2,250       ₹4,500  \n",
       "...             ...          ...  \n",
       "9995         ₹1,995       ₹3,499  \n",
       "9996           ₹399       ₹1,599  \n",
       "9997         ₹1,449       ₹2,699  \n",
       "9998           ₹953       ₹1,999  \n",
       "9999           ₹719       ₹1,499  \n",
       "\n",
       "[10000 rows x 9 columns]"
      ]
     },
     "execution_count": 85,
     "metadata": {},
     "output_type": "execute_result"
    }
   ],
   "source": [
    "sampled_dataset"
   ]
  },
  {
   "cell_type": "code",
   "execution_count": 86,
   "id": "5493bef7",
   "metadata": {},
   "outputs": [
    {
     "data": {
      "text/html": [
       "<div>\n",
       "<style scoped>\n",
       "    .dataframe tbody tr th:only-of-type {\n",
       "        vertical-align: middle;\n",
       "    }\n",
       "\n",
       "    .dataframe tbody tr th {\n",
       "        vertical-align: top;\n",
       "    }\n",
       "\n",
       "    .dataframe thead th {\n",
       "        text-align: right;\n",
       "    }\n",
       "</style>\n",
       "<table border=\"1\" class=\"dataframe\">\n",
       "  <thead>\n",
       "    <tr style=\"text-align: right;\">\n",
       "      <th></th>\n",
       "      <th>name</th>\n",
       "      <th>main_category</th>\n",
       "      <th>sub_category</th>\n",
       "      <th>image</th>\n",
       "      <th>link</th>\n",
       "      <th>ratings</th>\n",
       "      <th>no_of_ratings</th>\n",
       "      <th>discount_price</th>\n",
       "      <th>actual_price</th>\n",
       "    </tr>\n",
       "  </thead>\n",
       "  <tbody>\n",
       "    <tr>\n",
       "      <th>0</th>\n",
       "      <td>False</td>\n",
       "      <td>False</td>\n",
       "      <td>False</td>\n",
       "      <td>False</td>\n",
       "      <td>False</td>\n",
       "      <td>True</td>\n",
       "      <td>True</td>\n",
       "      <td>False</td>\n",
       "      <td>False</td>\n",
       "    </tr>\n",
       "    <tr>\n",
       "      <th>1</th>\n",
       "      <td>False</td>\n",
       "      <td>False</td>\n",
       "      <td>False</td>\n",
       "      <td>False</td>\n",
       "      <td>False</td>\n",
       "      <td>False</td>\n",
       "      <td>False</td>\n",
       "      <td>False</td>\n",
       "      <td>False</td>\n",
       "    </tr>\n",
       "    <tr>\n",
       "      <th>2</th>\n",
       "      <td>False</td>\n",
       "      <td>False</td>\n",
       "      <td>False</td>\n",
       "      <td>False</td>\n",
       "      <td>False</td>\n",
       "      <td>False</td>\n",
       "      <td>False</td>\n",
       "      <td>False</td>\n",
       "      <td>False</td>\n",
       "    </tr>\n",
       "    <tr>\n",
       "      <th>3</th>\n",
       "      <td>False</td>\n",
       "      <td>False</td>\n",
       "      <td>False</td>\n",
       "      <td>False</td>\n",
       "      <td>False</td>\n",
       "      <td>False</td>\n",
       "      <td>False</td>\n",
       "      <td>False</td>\n",
       "      <td>False</td>\n",
       "    </tr>\n",
       "    <tr>\n",
       "      <th>4</th>\n",
       "      <td>False</td>\n",
       "      <td>False</td>\n",
       "      <td>False</td>\n",
       "      <td>False</td>\n",
       "      <td>False</td>\n",
       "      <td>True</td>\n",
       "      <td>True</td>\n",
       "      <td>False</td>\n",
       "      <td>False</td>\n",
       "    </tr>\n",
       "    <tr>\n",
       "      <th>...</th>\n",
       "      <td>...</td>\n",
       "      <td>...</td>\n",
       "      <td>...</td>\n",
       "      <td>...</td>\n",
       "      <td>...</td>\n",
       "      <td>...</td>\n",
       "      <td>...</td>\n",
       "      <td>...</td>\n",
       "      <td>...</td>\n",
       "    </tr>\n",
       "    <tr>\n",
       "      <th>9995</th>\n",
       "      <td>False</td>\n",
       "      <td>False</td>\n",
       "      <td>False</td>\n",
       "      <td>False</td>\n",
       "      <td>False</td>\n",
       "      <td>False</td>\n",
       "      <td>False</td>\n",
       "      <td>False</td>\n",
       "      <td>False</td>\n",
       "    </tr>\n",
       "    <tr>\n",
       "      <th>9996</th>\n",
       "      <td>False</td>\n",
       "      <td>False</td>\n",
       "      <td>False</td>\n",
       "      <td>False</td>\n",
       "      <td>False</td>\n",
       "      <td>False</td>\n",
       "      <td>False</td>\n",
       "      <td>False</td>\n",
       "      <td>False</td>\n",
       "    </tr>\n",
       "    <tr>\n",
       "      <th>9997</th>\n",
       "      <td>False</td>\n",
       "      <td>False</td>\n",
       "      <td>False</td>\n",
       "      <td>False</td>\n",
       "      <td>False</td>\n",
       "      <td>True</td>\n",
       "      <td>True</td>\n",
       "      <td>False</td>\n",
       "      <td>False</td>\n",
       "    </tr>\n",
       "    <tr>\n",
       "      <th>9998</th>\n",
       "      <td>False</td>\n",
       "      <td>False</td>\n",
       "      <td>False</td>\n",
       "      <td>False</td>\n",
       "      <td>False</td>\n",
       "      <td>False</td>\n",
       "      <td>False</td>\n",
       "      <td>False</td>\n",
       "      <td>False</td>\n",
       "    </tr>\n",
       "    <tr>\n",
       "      <th>9999</th>\n",
       "      <td>False</td>\n",
       "      <td>False</td>\n",
       "      <td>False</td>\n",
       "      <td>False</td>\n",
       "      <td>False</td>\n",
       "      <td>False</td>\n",
       "      <td>False</td>\n",
       "      <td>False</td>\n",
       "      <td>False</td>\n",
       "    </tr>\n",
       "  </tbody>\n",
       "</table>\n",
       "<p>10000 rows × 9 columns</p>\n",
       "</div>"
      ],
      "text/plain": [
       "       name  main_category  sub_category  image   link  ratings  \\\n",
       "0     False          False         False  False  False     True   \n",
       "1     False          False         False  False  False    False   \n",
       "2     False          False         False  False  False    False   \n",
       "3     False          False         False  False  False    False   \n",
       "4     False          False         False  False  False     True   \n",
       "...     ...            ...           ...    ...    ...      ...   \n",
       "9995  False          False         False  False  False    False   \n",
       "9996  False          False         False  False  False    False   \n",
       "9997  False          False         False  False  False     True   \n",
       "9998  False          False         False  False  False    False   \n",
       "9999  False          False         False  False  False    False   \n",
       "\n",
       "      no_of_ratings  discount_price  actual_price  \n",
       "0              True           False         False  \n",
       "1             False           False         False  \n",
       "2             False           False         False  \n",
       "3             False           False         False  \n",
       "4              True           False         False  \n",
       "...             ...             ...           ...  \n",
       "9995          False           False         False  \n",
       "9996          False           False         False  \n",
       "9997           True           False         False  \n",
       "9998          False           False         False  \n",
       "9999          False           False         False  \n",
       "\n",
       "[10000 rows x 9 columns]"
      ]
     },
     "execution_count": 86,
     "metadata": {},
     "output_type": "execute_result"
    }
   ],
   "source": [
    "sampled_dataset.isnull()"
   ]
  },
  {
   "cell_type": "code",
   "execution_count": 87,
   "id": "10a1d7e5",
   "metadata": {},
   "outputs": [
    {
     "data": {
      "text/plain": [
       "name                 0\n",
       "main_category        0\n",
       "sub_category         0\n",
       "image                0\n",
       "link                 0\n",
       "ratings           3184\n",
       "no_of_ratings     3184\n",
       "discount_price    1079\n",
       "actual_price       337\n",
       "dtype: int64"
      ]
     },
     "execution_count": 87,
     "metadata": {},
     "output_type": "execute_result"
    }
   ],
   "source": [
    "sampled_dataset.isnull().sum()"
   ]
  },
  {
   "cell_type": "code",
   "execution_count": 88,
   "id": "f09ff8fd",
   "metadata": {},
   "outputs": [
    {
     "data": {
      "text/plain": [
       "0       False\n",
       "1       False\n",
       "2       False\n",
       "3       False\n",
       "4       False\n",
       "        ...  \n",
       "9995    False\n",
       "9996    False\n",
       "9997    False\n",
       "9998    False\n",
       "9999    False\n",
       "Length: 10000, dtype: bool"
      ]
     },
     "execution_count": 88,
     "metadata": {},
     "output_type": "execute_result"
    }
   ],
   "source": [
    "sampled_dataset.duplicated()"
   ]
  },
  {
   "cell_type": "code",
   "execution_count": 89,
   "id": "a072a8c6",
   "metadata": {},
   "outputs": [
    {
     "data": {
      "text/html": [
       "<div>\n",
       "<style scoped>\n",
       "    .dataframe tbody tr th:only-of-type {\n",
       "        vertical-align: middle;\n",
       "    }\n",
       "\n",
       "    .dataframe tbody tr th {\n",
       "        vertical-align: top;\n",
       "    }\n",
       "\n",
       "    .dataframe thead th {\n",
       "        text-align: right;\n",
       "    }\n",
       "</style>\n",
       "<table border=\"1\" class=\"dataframe\">\n",
       "  <thead>\n",
       "    <tr style=\"text-align: right;\">\n",
       "      <th></th>\n",
       "      <th>name</th>\n",
       "      <th>main_category</th>\n",
       "      <th>sub_category</th>\n",
       "      <th>image</th>\n",
       "      <th>link</th>\n",
       "      <th>ratings</th>\n",
       "      <th>no_of_ratings</th>\n",
       "      <th>discount_price</th>\n",
       "      <th>actual_price</th>\n",
       "    </tr>\n",
       "  </thead>\n",
       "  <tbody>\n",
       "    <tr>\n",
       "      <th>0</th>\n",
       "      <td>CHHILAKIYA Cotton Feel Glace Cotton Elastic Fi...</td>\n",
       "      <td>home &amp; kitchen</td>\n",
       "      <td>Home Furnishing</td>\n",
       "      <td>https://m.media-amazon.com/images/W/IMAGERENDE...</td>\n",
       "      <td>https://www.amazon.in/CHHILAKIYA-Cotton-Elasti...</td>\n",
       "      <td>NaN</td>\n",
       "      <td>NaN</td>\n",
       "      <td>₹599</td>\n",
       "      <td>₹1,299</td>\n",
       "    </tr>\n",
       "    <tr>\n",
       "      <th>1</th>\n",
       "      <td>Shining Jewel Gold Plated Pendant Mala for Men...</td>\n",
       "      <td>accessories</td>\n",
       "      <td>Jewellery</td>\n",
       "      <td>https://m.media-amazon.com/images/I/616IOVp+P5...</td>\n",
       "      <td>https://www.amazon.in/Shining-Jewel-Ganesha-Ru...</td>\n",
       "      <td>3.4</td>\n",
       "      <td>4</td>\n",
       "      <td>₹384</td>\n",
       "      <td>₹899</td>\n",
       "    </tr>\n",
       "    <tr>\n",
       "      <th>2</th>\n",
       "      <td>Home Plus 250 Watts Electric Vegetable Chopper...</td>\n",
       "      <td>appliances</td>\n",
       "      <td>Kitchen &amp; Home Appliances</td>\n",
       "      <td>https://m.media-amazon.com/images/I/51A2VtSVTN...</td>\n",
       "      <td>https://www.amazon.in/Homeplus-Electric-Choppe...</td>\n",
       "      <td>4.2</td>\n",
       "      <td>233</td>\n",
       "      <td>₹1,139</td>\n",
       "      <td>₹1,999</td>\n",
       "    </tr>\n",
       "    <tr>\n",
       "      <th>3</th>\n",
       "      <td>Bajaj 500 Watt GX-1 Mixer Grinder with 3 Jars-...</td>\n",
       "      <td>appliances</td>\n",
       "      <td>All Appliances</td>\n",
       "      <td>https://m.media-amazon.com/images/W/IMAGERENDE...</td>\n",
       "      <td>https://www.amazon.in/Bajaj-GX-1-500-Watt-Mixe...</td>\n",
       "      <td>4.0</td>\n",
       "      <td>20,488</td>\n",
       "      <td>₹2,289</td>\n",
       "      <td>₹3,850</td>\n",
       "    </tr>\n",
       "    <tr>\n",
       "      <th>4</th>\n",
       "      <td>Label RITU KUMAR Sequre Neck Strappy Printed L...</td>\n",
       "      <td>women's clothing</td>\n",
       "      <td>Western Wear</td>\n",
       "      <td>https://m.media-amazon.com/images/I/81aB6gbO7g...</td>\n",
       "      <td>https://www.amazon.in/Label-RITU-KUMAR-Strappy...</td>\n",
       "      <td>NaN</td>\n",
       "      <td>NaN</td>\n",
       "      <td>₹2,250</td>\n",
       "      <td>₹4,500</td>\n",
       "    </tr>\n",
       "    <tr>\n",
       "      <th>...</th>\n",
       "      <td>...</td>\n",
       "      <td>...</td>\n",
       "      <td>...</td>\n",
       "      <td>...</td>\n",
       "      <td>...</td>\n",
       "      <td>...</td>\n",
       "      <td>...</td>\n",
       "      <td>...</td>\n",
       "      <td>...</td>\n",
       "    </tr>\n",
       "    <tr>\n",
       "      <th>9995</th>\n",
       "      <td>PKST 14\" Big LED Ring Light for Photo and Vide...</td>\n",
       "      <td>tv, audio &amp; cameras</td>\n",
       "      <td>Cameras</td>\n",
       "      <td>https://m.media-amazon.com/images/I/61uYBqcIi3...</td>\n",
       "      <td>https://www.amazon.in/Compatible-Camera-Smartp...</td>\n",
       "      <td>5.0</td>\n",
       "      <td>2</td>\n",
       "      <td>₹1,995</td>\n",
       "      <td>₹3,499</td>\n",
       "    </tr>\n",
       "    <tr>\n",
       "      <th>9996</th>\n",
       "      <td>RANI SAAHIBA Women's Chiffon Floral Print Sare...</td>\n",
       "      <td>women's clothing</td>\n",
       "      <td>Ethnic Wear</td>\n",
       "      <td>https://m.media-amazon.com/images/W/IMAGERENDE...</td>\n",
       "      <td>https://www.amazon.in/RANI-SAAHIBA-Chiffon-Wit...</td>\n",
       "      <td>3.4</td>\n",
       "      <td>30</td>\n",
       "      <td>₹399</td>\n",
       "      <td>₹1,599</td>\n",
       "    </tr>\n",
       "    <tr>\n",
       "      <th>9997</th>\n",
       "      <td>Van Heusen Men's Plain Slim Fit Formal Shirt</td>\n",
       "      <td>men's clothing</td>\n",
       "      <td>Shirts</td>\n",
       "      <td>https://m.media-amazon.com/images/I/619fNz3KSE...</td>\n",
       "      <td>https://www.amazon.in/Van-Heusen-Plain-Formal-...</td>\n",
       "      <td>NaN</td>\n",
       "      <td>NaN</td>\n",
       "      <td>₹1,449</td>\n",
       "      <td>₹2,699</td>\n",
       "    </tr>\n",
       "    <tr>\n",
       "      <th>9998</th>\n",
       "      <td>SHAUN Men Trackpent (631MNP3)</td>\n",
       "      <td>sports &amp; fitness</td>\n",
       "      <td>All Exercise &amp; Fitness</td>\n",
       "      <td>https://m.media-amazon.com/images/I/81NVORNtCk...</td>\n",
       "      <td>https://www.amazon.in/Shaun-Cotton-Trackpant-M...</td>\n",
       "      <td>3.4</td>\n",
       "      <td>102</td>\n",
       "      <td>₹953</td>\n",
       "      <td>₹1,999</td>\n",
       "    </tr>\n",
       "    <tr>\n",
       "      <th>9999</th>\n",
       "      <td>Hykes Knee Cap Compression Support for Gym Run...</td>\n",
       "      <td>beauty &amp; health</td>\n",
       "      <td>Health &amp; Personal Care</td>\n",
       "      <td>https://m.media-amazon.com/images/W/IMAGERENDE...</td>\n",
       "      <td>https://www.amazon.in/Hykes-Compression-Suppor...</td>\n",
       "      <td>4.2</td>\n",
       "      <td>5,610</td>\n",
       "      <td>₹719</td>\n",
       "      <td>₹1,499</td>\n",
       "    </tr>\n",
       "  </tbody>\n",
       "</table>\n",
       "<p>9960 rows × 9 columns</p>\n",
       "</div>"
      ],
      "text/plain": [
       "                                                   name        main_category  \\\n",
       "0     CHHILAKIYA Cotton Feel Glace Cotton Elastic Fi...       home & kitchen   \n",
       "1     Shining Jewel Gold Plated Pendant Mala for Men...          accessories   \n",
       "2     Home Plus 250 Watts Electric Vegetable Chopper...           appliances   \n",
       "3     Bajaj 500 Watt GX-1 Mixer Grinder with 3 Jars-...           appliances   \n",
       "4     Label RITU KUMAR Sequre Neck Strappy Printed L...     women's clothing   \n",
       "...                                                 ...                  ...   \n",
       "9995  PKST 14\" Big LED Ring Light for Photo and Vide...  tv, audio & cameras   \n",
       "9996  RANI SAAHIBA Women's Chiffon Floral Print Sare...     women's clothing   \n",
       "9997       Van Heusen Men's Plain Slim Fit Formal Shirt       men's clothing   \n",
       "9998                      SHAUN Men Trackpent (631MNP3)     sports & fitness   \n",
       "9999  Hykes Knee Cap Compression Support for Gym Run...      beauty & health   \n",
       "\n",
       "                   sub_category  \\\n",
       "0               Home Furnishing   \n",
       "1                     Jewellery   \n",
       "2     Kitchen & Home Appliances   \n",
       "3                All Appliances   \n",
       "4                  Western Wear   \n",
       "...                         ...   \n",
       "9995                    Cameras   \n",
       "9996                Ethnic Wear   \n",
       "9997                     Shirts   \n",
       "9998     All Exercise & Fitness   \n",
       "9999     Health & Personal Care   \n",
       "\n",
       "                                                  image  \\\n",
       "0     https://m.media-amazon.com/images/W/IMAGERENDE...   \n",
       "1     https://m.media-amazon.com/images/I/616IOVp+P5...   \n",
       "2     https://m.media-amazon.com/images/I/51A2VtSVTN...   \n",
       "3     https://m.media-amazon.com/images/W/IMAGERENDE...   \n",
       "4     https://m.media-amazon.com/images/I/81aB6gbO7g...   \n",
       "...                                                 ...   \n",
       "9995  https://m.media-amazon.com/images/I/61uYBqcIi3...   \n",
       "9996  https://m.media-amazon.com/images/W/IMAGERENDE...   \n",
       "9997  https://m.media-amazon.com/images/I/619fNz3KSE...   \n",
       "9998  https://m.media-amazon.com/images/I/81NVORNtCk...   \n",
       "9999  https://m.media-amazon.com/images/W/IMAGERENDE...   \n",
       "\n",
       "                                                   link ratings no_of_ratings  \\\n",
       "0     https://www.amazon.in/CHHILAKIYA-Cotton-Elasti...     NaN           NaN   \n",
       "1     https://www.amazon.in/Shining-Jewel-Ganesha-Ru...     3.4             4   \n",
       "2     https://www.amazon.in/Homeplus-Electric-Choppe...     4.2           233   \n",
       "3     https://www.amazon.in/Bajaj-GX-1-500-Watt-Mixe...     4.0        20,488   \n",
       "4     https://www.amazon.in/Label-RITU-KUMAR-Strappy...     NaN           NaN   \n",
       "...                                                 ...     ...           ...   \n",
       "9995  https://www.amazon.in/Compatible-Camera-Smartp...     5.0             2   \n",
       "9996  https://www.amazon.in/RANI-SAAHIBA-Chiffon-Wit...     3.4            30   \n",
       "9997  https://www.amazon.in/Van-Heusen-Plain-Formal-...     NaN           NaN   \n",
       "9998  https://www.amazon.in/Shaun-Cotton-Trackpant-M...     3.4           102   \n",
       "9999  https://www.amazon.in/Hykes-Compression-Suppor...     4.2         5,610   \n",
       "\n",
       "     discount_price actual_price  \n",
       "0              ₹599       ₹1,299  \n",
       "1              ₹384         ₹899  \n",
       "2            ₹1,139       ₹1,999  \n",
       "3            ₹2,289       ₹3,850  \n",
       "4            ₹2,250       ₹4,500  \n",
       "...             ...          ...  \n",
       "9995         ₹1,995       ₹3,499  \n",
       "9996           ₹399       ₹1,599  \n",
       "9997         ₹1,449       ₹2,699  \n",
       "9998           ₹953       ₹1,999  \n",
       "9999           ₹719       ₹1,499  \n",
       "\n",
       "[9960 rows x 9 columns]"
      ]
     },
     "execution_count": 89,
     "metadata": {},
     "output_type": "execute_result"
    }
   ],
   "source": [
    "sampled_dataset.drop_duplicates()"
   ]
  },
  {
   "cell_type": "code",
   "execution_count": 90,
   "id": "a36454c0",
   "metadata": {},
   "outputs": [],
   "source": [
    "# Clean 'no_of_ratings' column by removing commas\n",
    "sampled_dataset['no_of_ratings'] = sampled_dataset['no_of_ratings'].astype(str).str.replace(',', '')\n",
    "\n",
    "# Convert 'ratings' and 'no_of_ratings' columns to numeric\n",
    "sampled_dataset['ratings'] = pd.to_numeric(sampled_dataset['ratings'], errors='coerce')\n",
    "sampled_dataset['no_of_ratings'] = pd.to_numeric(sampled_dataset['no_of_ratings'], errors='coerce')\n",
    "\n",
    "# Fill missing values in 'ratings' and 'no_of_ratings' columns\n",
    "sampled_dataset['ratings'].fillna(sampled_dataset['ratings'].median(), inplace=True)\n",
    "sampled_dataset['no_of_ratings'].fillna(sampled_dataset['no_of_ratings'].median(), inplace=True)\n",
    "\n",
    "# Convert 'discount_price' and 'actual_price' columns to numeric\n",
    "sampled_dataset['discount_price'] = sampled_dataset['discount_price'].str.replace('₹', '').str.replace(',', '')\n",
    "sampled_dataset['actual_price'] = sampled_dataset['actual_price'].str.replace('₹', '').str.replace(',', '')\n",
    "sampled_dataset['discount_price'] = pd.to_numeric(sampled_dataset['discount_price'], errors='coerce')\n",
    "sampled_dataset['actual_price'] = pd.to_numeric(sampled_dataset['actual_price'], errors='coerce')\n",
    "\n",
    "# Fill null values with the median\n",
    "discount_price_median = sampled_dataset['discount_price'].median()\n",
    "actual_price_median = sampled_dataset['actual_price'].median()\n",
    "sampled_dataset['discount_price'].fillna(discount_price_median, inplace=True)\n",
    "sampled_dataset['actual_price'].fillna(actual_price_median, inplace=True)"
   ]
  },
  {
   "cell_type": "code",
   "execution_count": 91,
   "id": "26f5f230",
   "metadata": {},
   "outputs": [
    {
     "data": {
      "text/plain": [
       "name              0\n",
       "main_category     0\n",
       "sub_category      0\n",
       "image             0\n",
       "link              0\n",
       "ratings           0\n",
       "no_of_ratings     0\n",
       "discount_price    0\n",
       "actual_price      0\n",
       "dtype: int64"
      ]
     },
     "execution_count": 91,
     "metadata": {},
     "output_type": "execute_result"
    }
   ],
   "source": [
    "sampled_dataset.isnull().sum()"
   ]
  },
  {
   "cell_type": "code",
   "execution_count": 92,
   "id": "2e3a3b82",
   "metadata": {},
   "outputs": [
    {
     "data": {
      "text/html": [
       "<div>\n",
       "<style scoped>\n",
       "    .dataframe tbody tr th:only-of-type {\n",
       "        vertical-align: middle;\n",
       "    }\n",
       "\n",
       "    .dataframe tbody tr th {\n",
       "        vertical-align: top;\n",
       "    }\n",
       "\n",
       "    .dataframe thead th {\n",
       "        text-align: right;\n",
       "    }\n",
       "</style>\n",
       "<table border=\"1\" class=\"dataframe\">\n",
       "  <thead>\n",
       "    <tr style=\"text-align: right;\">\n",
       "      <th></th>\n",
       "      <th>name</th>\n",
       "      <th>main_category</th>\n",
       "      <th>sub_category</th>\n",
       "      <th>image</th>\n",
       "      <th>link</th>\n",
       "      <th>ratings</th>\n",
       "      <th>no_of_ratings</th>\n",
       "      <th>discount_price</th>\n",
       "      <th>actual_price</th>\n",
       "    </tr>\n",
       "  </thead>\n",
       "  <tbody>\n",
       "    <tr>\n",
       "      <th>0</th>\n",
       "      <td>CHHILAKIYA Cotton Feel Glace Cotton Elastic Fi...</td>\n",
       "      <td>home &amp; kitchen</td>\n",
       "      <td>Home Furnishing</td>\n",
       "      <td>https://m.media-amazon.com/images/W/IMAGERENDE...</td>\n",
       "      <td>https://www.amazon.in/CHHILAKIYA-Cotton-Elasti...</td>\n",
       "      <td>3.9</td>\n",
       "      <td>21.0</td>\n",
       "      <td>599.0</td>\n",
       "      <td>1299.0</td>\n",
       "    </tr>\n",
       "    <tr>\n",
       "      <th>1</th>\n",
       "      <td>Shining Jewel Gold Plated Pendant Mala for Men...</td>\n",
       "      <td>accessories</td>\n",
       "      <td>Jewellery</td>\n",
       "      <td>https://m.media-amazon.com/images/I/616IOVp+P5...</td>\n",
       "      <td>https://www.amazon.in/Shining-Jewel-Ganesha-Ru...</td>\n",
       "      <td>3.4</td>\n",
       "      <td>4.0</td>\n",
       "      <td>384.0</td>\n",
       "      <td>899.0</td>\n",
       "    </tr>\n",
       "    <tr>\n",
       "      <th>2</th>\n",
       "      <td>Home Plus 250 Watts Electric Vegetable Chopper...</td>\n",
       "      <td>appliances</td>\n",
       "      <td>Kitchen &amp; Home Appliances</td>\n",
       "      <td>https://m.media-amazon.com/images/I/51A2VtSVTN...</td>\n",
       "      <td>https://www.amazon.in/Homeplus-Electric-Choppe...</td>\n",
       "      <td>4.2</td>\n",
       "      <td>233.0</td>\n",
       "      <td>1139.0</td>\n",
       "      <td>1999.0</td>\n",
       "    </tr>\n",
       "    <tr>\n",
       "      <th>3</th>\n",
       "      <td>Bajaj 500 Watt GX-1 Mixer Grinder with 3 Jars-...</td>\n",
       "      <td>appliances</td>\n",
       "      <td>All Appliances</td>\n",
       "      <td>https://m.media-amazon.com/images/W/IMAGERENDE...</td>\n",
       "      <td>https://www.amazon.in/Bajaj-GX-1-500-Watt-Mixe...</td>\n",
       "      <td>4.0</td>\n",
       "      <td>20488.0</td>\n",
       "      <td>2289.0</td>\n",
       "      <td>3850.0</td>\n",
       "    </tr>\n",
       "    <tr>\n",
       "      <th>4</th>\n",
       "      <td>Label RITU KUMAR Sequre Neck Strappy Printed L...</td>\n",
       "      <td>women's clothing</td>\n",
       "      <td>Western Wear</td>\n",
       "      <td>https://m.media-amazon.com/images/I/81aB6gbO7g...</td>\n",
       "      <td>https://www.amazon.in/Label-RITU-KUMAR-Strappy...</td>\n",
       "      <td>3.9</td>\n",
       "      <td>21.0</td>\n",
       "      <td>2250.0</td>\n",
       "      <td>4500.0</td>\n",
       "    </tr>\n",
       "    <tr>\n",
       "      <th>...</th>\n",
       "      <td>...</td>\n",
       "      <td>...</td>\n",
       "      <td>...</td>\n",
       "      <td>...</td>\n",
       "      <td>...</td>\n",
       "      <td>...</td>\n",
       "      <td>...</td>\n",
       "      <td>...</td>\n",
       "      <td>...</td>\n",
       "    </tr>\n",
       "    <tr>\n",
       "      <th>9995</th>\n",
       "      <td>PKST 14\" Big LED Ring Light for Photo and Vide...</td>\n",
       "      <td>tv, audio &amp; cameras</td>\n",
       "      <td>Cameras</td>\n",
       "      <td>https://m.media-amazon.com/images/I/61uYBqcIi3...</td>\n",
       "      <td>https://www.amazon.in/Compatible-Camera-Smartp...</td>\n",
       "      <td>5.0</td>\n",
       "      <td>2.0</td>\n",
       "      <td>1995.0</td>\n",
       "      <td>3499.0</td>\n",
       "    </tr>\n",
       "    <tr>\n",
       "      <th>9996</th>\n",
       "      <td>RANI SAAHIBA Women's Chiffon Floral Print Sare...</td>\n",
       "      <td>women's clothing</td>\n",
       "      <td>Ethnic Wear</td>\n",
       "      <td>https://m.media-amazon.com/images/W/IMAGERENDE...</td>\n",
       "      <td>https://www.amazon.in/RANI-SAAHIBA-Chiffon-Wit...</td>\n",
       "      <td>3.4</td>\n",
       "      <td>30.0</td>\n",
       "      <td>399.0</td>\n",
       "      <td>1599.0</td>\n",
       "    </tr>\n",
       "    <tr>\n",
       "      <th>9997</th>\n",
       "      <td>Van Heusen Men's Plain Slim Fit Formal Shirt</td>\n",
       "      <td>men's clothing</td>\n",
       "      <td>Shirts</td>\n",
       "      <td>https://m.media-amazon.com/images/I/619fNz3KSE...</td>\n",
       "      <td>https://www.amazon.in/Van-Heusen-Plain-Formal-...</td>\n",
       "      <td>3.9</td>\n",
       "      <td>21.0</td>\n",
       "      <td>1449.0</td>\n",
       "      <td>2699.0</td>\n",
       "    </tr>\n",
       "    <tr>\n",
       "      <th>9998</th>\n",
       "      <td>SHAUN Men Trackpent (631MNP3)</td>\n",
       "      <td>sports &amp; fitness</td>\n",
       "      <td>All Exercise &amp; Fitness</td>\n",
       "      <td>https://m.media-amazon.com/images/I/81NVORNtCk...</td>\n",
       "      <td>https://www.amazon.in/Shaun-Cotton-Trackpant-M...</td>\n",
       "      <td>3.4</td>\n",
       "      <td>102.0</td>\n",
       "      <td>953.0</td>\n",
       "      <td>1999.0</td>\n",
       "    </tr>\n",
       "    <tr>\n",
       "      <th>9999</th>\n",
       "      <td>Hykes Knee Cap Compression Support for Gym Run...</td>\n",
       "      <td>beauty &amp; health</td>\n",
       "      <td>Health &amp; Personal Care</td>\n",
       "      <td>https://m.media-amazon.com/images/W/IMAGERENDE...</td>\n",
       "      <td>https://www.amazon.in/Hykes-Compression-Suppor...</td>\n",
       "      <td>4.2</td>\n",
       "      <td>5610.0</td>\n",
       "      <td>719.0</td>\n",
       "      <td>1499.0</td>\n",
       "    </tr>\n",
       "  </tbody>\n",
       "</table>\n",
       "<p>10000 rows × 9 columns</p>\n",
       "</div>"
      ],
      "text/plain": [
       "                                                   name        main_category  \\\n",
       "0     CHHILAKIYA Cotton Feel Glace Cotton Elastic Fi...       home & kitchen   \n",
       "1     Shining Jewel Gold Plated Pendant Mala for Men...          accessories   \n",
       "2     Home Plus 250 Watts Electric Vegetable Chopper...           appliances   \n",
       "3     Bajaj 500 Watt GX-1 Mixer Grinder with 3 Jars-...           appliances   \n",
       "4     Label RITU KUMAR Sequre Neck Strappy Printed L...     women's clothing   \n",
       "...                                                 ...                  ...   \n",
       "9995  PKST 14\" Big LED Ring Light for Photo and Vide...  tv, audio & cameras   \n",
       "9996  RANI SAAHIBA Women's Chiffon Floral Print Sare...     women's clothing   \n",
       "9997       Van Heusen Men's Plain Slim Fit Formal Shirt       men's clothing   \n",
       "9998                      SHAUN Men Trackpent (631MNP3)     sports & fitness   \n",
       "9999  Hykes Knee Cap Compression Support for Gym Run...      beauty & health   \n",
       "\n",
       "                   sub_category  \\\n",
       "0               Home Furnishing   \n",
       "1                     Jewellery   \n",
       "2     Kitchen & Home Appliances   \n",
       "3                All Appliances   \n",
       "4                  Western Wear   \n",
       "...                         ...   \n",
       "9995                    Cameras   \n",
       "9996                Ethnic Wear   \n",
       "9997                     Shirts   \n",
       "9998     All Exercise & Fitness   \n",
       "9999     Health & Personal Care   \n",
       "\n",
       "                                                  image  \\\n",
       "0     https://m.media-amazon.com/images/W/IMAGERENDE...   \n",
       "1     https://m.media-amazon.com/images/I/616IOVp+P5...   \n",
       "2     https://m.media-amazon.com/images/I/51A2VtSVTN...   \n",
       "3     https://m.media-amazon.com/images/W/IMAGERENDE...   \n",
       "4     https://m.media-amazon.com/images/I/81aB6gbO7g...   \n",
       "...                                                 ...   \n",
       "9995  https://m.media-amazon.com/images/I/61uYBqcIi3...   \n",
       "9996  https://m.media-amazon.com/images/W/IMAGERENDE...   \n",
       "9997  https://m.media-amazon.com/images/I/619fNz3KSE...   \n",
       "9998  https://m.media-amazon.com/images/I/81NVORNtCk...   \n",
       "9999  https://m.media-amazon.com/images/W/IMAGERENDE...   \n",
       "\n",
       "                                                   link  ratings  \\\n",
       "0     https://www.amazon.in/CHHILAKIYA-Cotton-Elasti...      3.9   \n",
       "1     https://www.amazon.in/Shining-Jewel-Ganesha-Ru...      3.4   \n",
       "2     https://www.amazon.in/Homeplus-Electric-Choppe...      4.2   \n",
       "3     https://www.amazon.in/Bajaj-GX-1-500-Watt-Mixe...      4.0   \n",
       "4     https://www.amazon.in/Label-RITU-KUMAR-Strappy...      3.9   \n",
       "...                                                 ...      ...   \n",
       "9995  https://www.amazon.in/Compatible-Camera-Smartp...      5.0   \n",
       "9996  https://www.amazon.in/RANI-SAAHIBA-Chiffon-Wit...      3.4   \n",
       "9997  https://www.amazon.in/Van-Heusen-Plain-Formal-...      3.9   \n",
       "9998  https://www.amazon.in/Shaun-Cotton-Trackpant-M...      3.4   \n",
       "9999  https://www.amazon.in/Hykes-Compression-Suppor...      4.2   \n",
       "\n",
       "      no_of_ratings  discount_price  actual_price  \n",
       "0              21.0           599.0        1299.0  \n",
       "1               4.0           384.0         899.0  \n",
       "2             233.0          1139.0        1999.0  \n",
       "3           20488.0          2289.0        3850.0  \n",
       "4              21.0          2250.0        4500.0  \n",
       "...             ...             ...           ...  \n",
       "9995            2.0          1995.0        3499.0  \n",
       "9996           30.0           399.0        1599.0  \n",
       "9997           21.0          1449.0        2699.0  \n",
       "9998          102.0           953.0        1999.0  \n",
       "9999         5610.0           719.0        1499.0  \n",
       "\n",
       "[10000 rows x 9 columns]"
      ]
     },
     "execution_count": 92,
     "metadata": {},
     "output_type": "execute_result"
    }
   ],
   "source": [
    "sampled_dataset"
   ]
  },
  {
   "cell_type": "code",
   "execution_count": 93,
   "id": "e4348a24",
   "metadata": {},
   "outputs": [
    {
     "name": "stdout",
     "output_type": "stream",
     "text": [
      "name               object\n",
      "main_category      object\n",
      "sub_category       object\n",
      "image              object\n",
      "link               object\n",
      "ratings           float64\n",
      "no_of_ratings     float64\n",
      "discount_price    float64\n",
      "actual_price      float64\n",
      "dtype: object\n"
     ]
    }
   ],
   "source": [
    "print(sampled_dataset.dtypes)"
   ]
  },
  {
   "cell_type": "code",
   "execution_count": 94,
   "id": "5b8e43af",
   "metadata": {},
   "outputs": [],
   "source": [
    "# Split the dataset into training and testing sets\n",
    "train_data, test_data = train_test_split(sampled_dataset, test_size=0.2, random_state=42)"
   ]
  },
  {
   "cell_type": "code",
   "execution_count": 95,
   "id": "b8f8769a",
   "metadata": {},
   "outputs": [
    {
     "data": {
      "text/html": [
       "<div>\n",
       "<style scoped>\n",
       "    .dataframe tbody tr th:only-of-type {\n",
       "        vertical-align: middle;\n",
       "    }\n",
       "\n",
       "    .dataframe tbody tr th {\n",
       "        vertical-align: top;\n",
       "    }\n",
       "\n",
       "    .dataframe thead th {\n",
       "        text-align: right;\n",
       "    }\n",
       "</style>\n",
       "<table border=\"1\" class=\"dataframe\">\n",
       "  <thead>\n",
       "    <tr style=\"text-align: right;\">\n",
       "      <th></th>\n",
       "      <th>Category</th>\n",
       "      <th>Counts</th>\n",
       "      <th>Percent</th>\n",
       "    </tr>\n",
       "  </thead>\n",
       "  <tbody>\n",
       "    <tr>\n",
       "      <th>0</th>\n",
       "      <td>accessories</td>\n",
       "      <td>2238</td>\n",
       "      <td>22.38</td>\n",
       "    </tr>\n",
       "    <tr>\n",
       "      <th>1</th>\n",
       "      <td>tv, audio &amp; cameras</td>\n",
       "      <td>1393</td>\n",
       "      <td>13.93</td>\n",
       "    </tr>\n",
       "    <tr>\n",
       "      <th>2</th>\n",
       "      <td>men's shoes</td>\n",
       "      <td>1305</td>\n",
       "      <td>13.05</td>\n",
       "    </tr>\n",
       "    <tr>\n",
       "      <th>3</th>\n",
       "      <td>women's clothing</td>\n",
       "      <td>1273</td>\n",
       "      <td>12.73</td>\n",
       "    </tr>\n",
       "    <tr>\n",
       "      <th>4</th>\n",
       "      <td>men's clothing</td>\n",
       "      <td>1235</td>\n",
       "      <td>12.35</td>\n",
       "    </tr>\n",
       "    <tr>\n",
       "      <th>5</th>\n",
       "      <td>stores</td>\n",
       "      <td>598</td>\n",
       "      <td>5.98</td>\n",
       "    </tr>\n",
       "    <tr>\n",
       "      <th>6</th>\n",
       "      <td>appliances</td>\n",
       "      <td>539</td>\n",
       "      <td>5.39</td>\n",
       "    </tr>\n",
       "    <tr>\n",
       "      <th>7</th>\n",
       "      <td>kids' fashion</td>\n",
       "      <td>241</td>\n",
       "      <td>2.41</td>\n",
       "    </tr>\n",
       "    <tr>\n",
       "      <th>8</th>\n",
       "      <td>beauty &amp; health</td>\n",
       "      <td>212</td>\n",
       "      <td>2.12</td>\n",
       "    </tr>\n",
       "    <tr>\n",
       "      <th>9</th>\n",
       "      <td>home &amp; kitchen</td>\n",
       "      <td>192</td>\n",
       "      <td>1.92</td>\n",
       "    </tr>\n",
       "    <tr>\n",
       "      <th>10</th>\n",
       "      <td>bags &amp; luggage</td>\n",
       "      <td>182</td>\n",
       "      <td>1.82</td>\n",
       "    </tr>\n",
       "    <tr>\n",
       "      <th>11</th>\n",
       "      <td>sports &amp; fitness</td>\n",
       "      <td>167</td>\n",
       "      <td>1.67</td>\n",
       "    </tr>\n",
       "    <tr>\n",
       "      <th>12</th>\n",
       "      <td>women's shoes</td>\n",
       "      <td>120</td>\n",
       "      <td>1.20</td>\n",
       "    </tr>\n",
       "    <tr>\n",
       "      <th>13</th>\n",
       "      <td>car &amp; motorbike</td>\n",
       "      <td>99</td>\n",
       "      <td>0.99</td>\n",
       "    </tr>\n",
       "    <tr>\n",
       "      <th>14</th>\n",
       "      <td>toys &amp; baby products</td>\n",
       "      <td>88</td>\n",
       "      <td>0.88</td>\n",
       "    </tr>\n",
       "    <tr>\n",
       "      <th>15</th>\n",
       "      <td>industrial supplies</td>\n",
       "      <td>41</td>\n",
       "      <td>0.41</td>\n",
       "    </tr>\n",
       "    <tr>\n",
       "      <th>16</th>\n",
       "      <td>grocery &amp; gourmet foods</td>\n",
       "      <td>30</td>\n",
       "      <td>0.30</td>\n",
       "    </tr>\n",
       "    <tr>\n",
       "      <th>17</th>\n",
       "      <td>music</td>\n",
       "      <td>25</td>\n",
       "      <td>0.25</td>\n",
       "    </tr>\n",
       "    <tr>\n",
       "      <th>18</th>\n",
       "      <td>pet supplies</td>\n",
       "      <td>22</td>\n",
       "      <td>0.22</td>\n",
       "    </tr>\n",
       "  </tbody>\n",
       "</table>\n",
       "</div>"
      ],
      "text/plain": [
       "                   Category  Counts  Percent\n",
       "0               accessories    2238    22.38\n",
       "1       tv, audio & cameras    1393    13.93\n",
       "2               men's shoes    1305    13.05\n",
       "3          women's clothing    1273    12.73\n",
       "4            men's clothing    1235    12.35\n",
       "5                    stores     598     5.98\n",
       "6                appliances     539     5.39\n",
       "7             kids' fashion     241     2.41\n",
       "8           beauty & health     212     2.12\n",
       "9            home & kitchen     192     1.92\n",
       "10           bags & luggage     182     1.82\n",
       "11         sports & fitness     167     1.67\n",
       "12            women's shoes     120     1.20\n",
       "13          car & motorbike      99     0.99\n",
       "14     toys & baby products      88     0.88\n",
       "15      industrial supplies      41     0.41\n",
       "16  grocery & gourmet foods      30     0.30\n",
       "17                    music      25     0.25\n",
       "18             pet supplies      22     0.22"
      ]
     },
     "metadata": {},
     "output_type": "display_data"
    },
    {
     "data": {
      "application/vnd.plotly.v1+json": {
       "config": {
        "plotlyServerURL": "https://plot.ly"
       },
       "data": [
        {
         "alignmentgroup": "True",
         "hovertemplate": "Category=%{x}<br>Counts=%{marker.color}<extra></extra>",
         "legendgroup": "",
         "marker": {
          "color": [
           2238,
           1393,
           1305,
           1273,
           1235,
           598,
           539,
           241,
           212,
           192,
           182,
           167,
           120,
           99,
           88,
           41,
           30,
           25,
           22
          ],
          "coloraxis": "coloraxis",
          "pattern": {
           "shape": ""
          }
         },
         "name": "",
         "offsetgroup": "",
         "orientation": "v",
         "showlegend": false,
         "textposition": "auto",
         "texttemplate": "%{y}",
         "type": "bar",
         "x": [
          "accessories",
          "tv, audio & cameras",
          "men's shoes",
          "women's clothing",
          "men's clothing",
          "stores",
          "appliances",
          "kids' fashion",
          "beauty & health",
          "home & kitchen",
          "bags & luggage",
          "sports & fitness",
          "women's shoes",
          "car & motorbike",
          "toys & baby products",
          "industrial supplies",
          "grocery & gourmet foods",
          "music",
          "pet supplies"
         ],
         "xaxis": "x",
         "y": [
          2238,
          1393,
          1305,
          1273,
          1235,
          598,
          539,
          241,
          212,
          192,
          182,
          167,
          120,
          99,
          88,
          41,
          30,
          25,
          22
         ],
         "yaxis": "y"
        }
       ],
       "layout": {
        "barmode": "relative",
        "coloraxis": {
         "colorbar": {
          "title": {
           "text": "Counts"
          }
         },
         "colorscale": [
          [
           0,
           "rgb(255,245,240)"
          ],
          [
           0.125,
           "rgb(254,224,210)"
          ],
          [
           0.25,
           "rgb(252,187,161)"
          ],
          [
           0.375,
           "rgb(252,146,114)"
          ],
          [
           0.5,
           "rgb(251,106,74)"
          ],
          [
           0.625,
           "rgb(239,59,44)"
          ],
          [
           0.75,
           "rgb(203,24,29)"
          ],
          [
           0.875,
           "rgb(165,15,21)"
          ],
          [
           1,
           "rgb(103,0,13)"
          ]
         ]
        },
        "legend": {
         "tracegroupgap": 0
        },
        "template": {
         "data": {
          "bar": [
           {
            "error_x": {
             "color": "#2a3f5f"
            },
            "error_y": {
             "color": "#2a3f5f"
            },
            "marker": {
             "line": {
              "color": "#E5ECF6",
              "width": 0.5
             },
             "pattern": {
              "fillmode": "overlay",
              "size": 10,
              "solidity": 0.2
             }
            },
            "type": "bar"
           }
          ],
          "barpolar": [
           {
            "marker": {
             "line": {
              "color": "#E5ECF6",
              "width": 0.5
             },
             "pattern": {
              "fillmode": "overlay",
              "size": 10,
              "solidity": 0.2
             }
            },
            "type": "barpolar"
           }
          ],
          "carpet": [
           {
            "aaxis": {
             "endlinecolor": "#2a3f5f",
             "gridcolor": "white",
             "linecolor": "white",
             "minorgridcolor": "white",
             "startlinecolor": "#2a3f5f"
            },
            "baxis": {
             "endlinecolor": "#2a3f5f",
             "gridcolor": "white",
             "linecolor": "white",
             "minorgridcolor": "white",
             "startlinecolor": "#2a3f5f"
            },
            "type": "carpet"
           }
          ],
          "choropleth": [
           {
            "colorbar": {
             "outlinewidth": 0,
             "ticks": ""
            },
            "type": "choropleth"
           }
          ],
          "contour": [
           {
            "colorbar": {
             "outlinewidth": 0,
             "ticks": ""
            },
            "colorscale": [
             [
              0,
              "#0d0887"
             ],
             [
              0.1111111111111111,
              "#46039f"
             ],
             [
              0.2222222222222222,
              "#7201a8"
             ],
             [
              0.3333333333333333,
              "#9c179e"
             ],
             [
              0.4444444444444444,
              "#bd3786"
             ],
             [
              0.5555555555555556,
              "#d8576b"
             ],
             [
              0.6666666666666666,
              "#ed7953"
             ],
             [
              0.7777777777777778,
              "#fb9f3a"
             ],
             [
              0.8888888888888888,
              "#fdca26"
             ],
             [
              1,
              "#f0f921"
             ]
            ],
            "type": "contour"
           }
          ],
          "contourcarpet": [
           {
            "colorbar": {
             "outlinewidth": 0,
             "ticks": ""
            },
            "type": "contourcarpet"
           }
          ],
          "heatmap": [
           {
            "colorbar": {
             "outlinewidth": 0,
             "ticks": ""
            },
            "colorscale": [
             [
              0,
              "#0d0887"
             ],
             [
              0.1111111111111111,
              "#46039f"
             ],
             [
              0.2222222222222222,
              "#7201a8"
             ],
             [
              0.3333333333333333,
              "#9c179e"
             ],
             [
              0.4444444444444444,
              "#bd3786"
             ],
             [
              0.5555555555555556,
              "#d8576b"
             ],
             [
              0.6666666666666666,
              "#ed7953"
             ],
             [
              0.7777777777777778,
              "#fb9f3a"
             ],
             [
              0.8888888888888888,
              "#fdca26"
             ],
             [
              1,
              "#f0f921"
             ]
            ],
            "type": "heatmap"
           }
          ],
          "heatmapgl": [
           {
            "colorbar": {
             "outlinewidth": 0,
             "ticks": ""
            },
            "colorscale": [
             [
              0,
              "#0d0887"
             ],
             [
              0.1111111111111111,
              "#46039f"
             ],
             [
              0.2222222222222222,
              "#7201a8"
             ],
             [
              0.3333333333333333,
              "#9c179e"
             ],
             [
              0.4444444444444444,
              "#bd3786"
             ],
             [
              0.5555555555555556,
              "#d8576b"
             ],
             [
              0.6666666666666666,
              "#ed7953"
             ],
             [
              0.7777777777777778,
              "#fb9f3a"
             ],
             [
              0.8888888888888888,
              "#fdca26"
             ],
             [
              1,
              "#f0f921"
             ]
            ],
            "type": "heatmapgl"
           }
          ],
          "histogram": [
           {
            "marker": {
             "pattern": {
              "fillmode": "overlay",
              "size": 10,
              "solidity": 0.2
             }
            },
            "type": "histogram"
           }
          ],
          "histogram2d": [
           {
            "colorbar": {
             "outlinewidth": 0,
             "ticks": ""
            },
            "colorscale": [
             [
              0,
              "#0d0887"
             ],
             [
              0.1111111111111111,
              "#46039f"
             ],
             [
              0.2222222222222222,
              "#7201a8"
             ],
             [
              0.3333333333333333,
              "#9c179e"
             ],
             [
              0.4444444444444444,
              "#bd3786"
             ],
             [
              0.5555555555555556,
              "#d8576b"
             ],
             [
              0.6666666666666666,
              "#ed7953"
             ],
             [
              0.7777777777777778,
              "#fb9f3a"
             ],
             [
              0.8888888888888888,
              "#fdca26"
             ],
             [
              1,
              "#f0f921"
             ]
            ],
            "type": "histogram2d"
           }
          ],
          "histogram2dcontour": [
           {
            "colorbar": {
             "outlinewidth": 0,
             "ticks": ""
            },
            "colorscale": [
             [
              0,
              "#0d0887"
             ],
             [
              0.1111111111111111,
              "#46039f"
             ],
             [
              0.2222222222222222,
              "#7201a8"
             ],
             [
              0.3333333333333333,
              "#9c179e"
             ],
             [
              0.4444444444444444,
              "#bd3786"
             ],
             [
              0.5555555555555556,
              "#d8576b"
             ],
             [
              0.6666666666666666,
              "#ed7953"
             ],
             [
              0.7777777777777778,
              "#fb9f3a"
             ],
             [
              0.8888888888888888,
              "#fdca26"
             ],
             [
              1,
              "#f0f921"
             ]
            ],
            "type": "histogram2dcontour"
           }
          ],
          "mesh3d": [
           {
            "colorbar": {
             "outlinewidth": 0,
             "ticks": ""
            },
            "type": "mesh3d"
           }
          ],
          "parcoords": [
           {
            "line": {
             "colorbar": {
              "outlinewidth": 0,
              "ticks": ""
             }
            },
            "type": "parcoords"
           }
          ],
          "pie": [
           {
            "automargin": true,
            "type": "pie"
           }
          ],
          "scatter": [
           {
            "fillpattern": {
             "fillmode": "overlay",
             "size": 10,
             "solidity": 0.2
            },
            "type": "scatter"
           }
          ],
          "scatter3d": [
           {
            "line": {
             "colorbar": {
              "outlinewidth": 0,
              "ticks": ""
             }
            },
            "marker": {
             "colorbar": {
              "outlinewidth": 0,
              "ticks": ""
             }
            },
            "type": "scatter3d"
           }
          ],
          "scattercarpet": [
           {
            "marker": {
             "colorbar": {
              "outlinewidth": 0,
              "ticks": ""
             }
            },
            "type": "scattercarpet"
           }
          ],
          "scattergeo": [
           {
            "marker": {
             "colorbar": {
              "outlinewidth": 0,
              "ticks": ""
             }
            },
            "type": "scattergeo"
           }
          ],
          "scattergl": [
           {
            "marker": {
             "colorbar": {
              "outlinewidth": 0,
              "ticks": ""
             }
            },
            "type": "scattergl"
           }
          ],
          "scattermapbox": [
           {
            "marker": {
             "colorbar": {
              "outlinewidth": 0,
              "ticks": ""
             }
            },
            "type": "scattermapbox"
           }
          ],
          "scatterpolar": [
           {
            "marker": {
             "colorbar": {
              "outlinewidth": 0,
              "ticks": ""
             }
            },
            "type": "scatterpolar"
           }
          ],
          "scatterpolargl": [
           {
            "marker": {
             "colorbar": {
              "outlinewidth": 0,
              "ticks": ""
             }
            },
            "type": "scatterpolargl"
           }
          ],
          "scatterternary": [
           {
            "marker": {
             "colorbar": {
              "outlinewidth": 0,
              "ticks": ""
             }
            },
            "type": "scatterternary"
           }
          ],
          "surface": [
           {
            "colorbar": {
             "outlinewidth": 0,
             "ticks": ""
            },
            "colorscale": [
             [
              0,
              "#0d0887"
             ],
             [
              0.1111111111111111,
              "#46039f"
             ],
             [
              0.2222222222222222,
              "#7201a8"
             ],
             [
              0.3333333333333333,
              "#9c179e"
             ],
             [
              0.4444444444444444,
              "#bd3786"
             ],
             [
              0.5555555555555556,
              "#d8576b"
             ],
             [
              0.6666666666666666,
              "#ed7953"
             ],
             [
              0.7777777777777778,
              "#fb9f3a"
             ],
             [
              0.8888888888888888,
              "#fdca26"
             ],
             [
              1,
              "#f0f921"
             ]
            ],
            "type": "surface"
           }
          ],
          "table": [
           {
            "cells": {
             "fill": {
              "color": "#EBF0F8"
             },
             "line": {
              "color": "white"
             }
            },
            "header": {
             "fill": {
              "color": "#C8D4E3"
             },
             "line": {
              "color": "white"
             }
            },
            "type": "table"
           }
          ]
         },
         "layout": {
          "annotationdefaults": {
           "arrowcolor": "#2a3f5f",
           "arrowhead": 0,
           "arrowwidth": 1
          },
          "autotypenumbers": "strict",
          "coloraxis": {
           "colorbar": {
            "outlinewidth": 0,
            "ticks": ""
           }
          },
          "colorscale": {
           "diverging": [
            [
             0,
             "#8e0152"
            ],
            [
             0.1,
             "#c51b7d"
            ],
            [
             0.2,
             "#de77ae"
            ],
            [
             0.3,
             "#f1b6da"
            ],
            [
             0.4,
             "#fde0ef"
            ],
            [
             0.5,
             "#f7f7f7"
            ],
            [
             0.6,
             "#e6f5d0"
            ],
            [
             0.7,
             "#b8e186"
            ],
            [
             0.8,
             "#7fbc41"
            ],
            [
             0.9,
             "#4d9221"
            ],
            [
             1,
             "#276419"
            ]
           ],
           "sequential": [
            [
             0,
             "#0d0887"
            ],
            [
             0.1111111111111111,
             "#46039f"
            ],
            [
             0.2222222222222222,
             "#7201a8"
            ],
            [
             0.3333333333333333,
             "#9c179e"
            ],
            [
             0.4444444444444444,
             "#bd3786"
            ],
            [
             0.5555555555555556,
             "#d8576b"
            ],
            [
             0.6666666666666666,
             "#ed7953"
            ],
            [
             0.7777777777777778,
             "#fb9f3a"
            ],
            [
             0.8888888888888888,
             "#fdca26"
            ],
            [
             1,
             "#f0f921"
            ]
           ],
           "sequentialminus": [
            [
             0,
             "#0d0887"
            ],
            [
             0.1111111111111111,
             "#46039f"
            ],
            [
             0.2222222222222222,
             "#7201a8"
            ],
            [
             0.3333333333333333,
             "#9c179e"
            ],
            [
             0.4444444444444444,
             "#bd3786"
            ],
            [
             0.5555555555555556,
             "#d8576b"
            ],
            [
             0.6666666666666666,
             "#ed7953"
            ],
            [
             0.7777777777777778,
             "#fb9f3a"
            ],
            [
             0.8888888888888888,
             "#fdca26"
            ],
            [
             1,
             "#f0f921"
            ]
           ]
          },
          "colorway": [
           "#636efa",
           "#EF553B",
           "#00cc96",
           "#ab63fa",
           "#FFA15A",
           "#19d3f3",
           "#FF6692",
           "#B6E880",
           "#FF97FF",
           "#FECB52"
          ],
          "font": {
           "color": "#2a3f5f"
          },
          "geo": {
           "bgcolor": "white",
           "lakecolor": "white",
           "landcolor": "#E5ECF6",
           "showlakes": true,
           "showland": true,
           "subunitcolor": "white"
          },
          "hoverlabel": {
           "align": "left"
          },
          "hovermode": "closest",
          "mapbox": {
           "style": "light"
          },
          "paper_bgcolor": "white",
          "plot_bgcolor": "#E5ECF6",
          "polar": {
           "angularaxis": {
            "gridcolor": "white",
            "linecolor": "white",
            "ticks": ""
           },
           "bgcolor": "#E5ECF6",
           "radialaxis": {
            "gridcolor": "white",
            "linecolor": "white",
            "ticks": ""
           }
          },
          "scene": {
           "xaxis": {
            "backgroundcolor": "#E5ECF6",
            "gridcolor": "white",
            "gridwidth": 2,
            "linecolor": "white",
            "showbackground": true,
            "ticks": "",
            "zerolinecolor": "white"
           },
           "yaxis": {
            "backgroundcolor": "#E5ECF6",
            "gridcolor": "white",
            "gridwidth": 2,
            "linecolor": "white",
            "showbackground": true,
            "ticks": "",
            "zerolinecolor": "white"
           },
           "zaxis": {
            "backgroundcolor": "#E5ECF6",
            "gridcolor": "white",
            "gridwidth": 2,
            "linecolor": "white",
            "showbackground": true,
            "ticks": "",
            "zerolinecolor": "white"
           }
          },
          "shapedefaults": {
           "line": {
            "color": "#2a3f5f"
           }
          },
          "ternary": {
           "aaxis": {
            "gridcolor": "white",
            "linecolor": "white",
            "ticks": ""
           },
           "baxis": {
            "gridcolor": "white",
            "linecolor": "white",
            "ticks": ""
           },
           "bgcolor": "#E5ECF6",
           "caxis": {
            "gridcolor": "white",
            "linecolor": "white",
            "ticks": ""
           }
          },
          "title": {
           "x": 0.05
          },
          "xaxis": {
           "automargin": true,
           "gridcolor": "white",
           "linecolor": "white",
           "ticks": "",
           "title": {
            "standoff": 15
           },
           "zerolinecolor": "white",
           "zerolinewidth": 2
          },
          "yaxis": {
           "automargin": true,
           "gridcolor": "white",
           "linecolor": "white",
           "ticks": "",
           "title": {
            "standoff": 15
           },
           "zerolinecolor": "white",
           "zerolinewidth": 2
          }
         }
        },
        "title": {
         "text": "Count of Items in Each Category"
        },
        "xaxis": {
         "anchor": "y",
         "domain": [
          0,
          1
         ],
         "title": {
          "text": "Category"
         }
        },
        "yaxis": {
         "anchor": "x",
         "domain": [
          0,
          1
         ],
         "title": {
          "text": "Counts"
         }
        }
       }
      },
      "text/html": [
       "<div>                            <div id=\"45500464-99da-4ba4-975d-404c1b2a80cb\" class=\"plotly-graph-div\" style=\"height:525px; width:100%;\"></div>            <script type=\"text/javascript\">                require([\"plotly\"], function(Plotly) {                    window.PLOTLYENV=window.PLOTLYENV || {};                                    if (document.getElementById(\"45500464-99da-4ba4-975d-404c1b2a80cb\")) {                    Plotly.newPlot(                        \"45500464-99da-4ba4-975d-404c1b2a80cb\",                        [{\"alignmentgroup\":\"True\",\"hovertemplate\":\"Category=%{x}<br>Counts=%{marker.color}<extra></extra>\",\"legendgroup\":\"\",\"marker\":{\"color\":[2238,1393,1305,1273,1235,598,539,241,212,192,182,167,120,99,88,41,30,25,22],\"coloraxis\":\"coloraxis\",\"pattern\":{\"shape\":\"\"}},\"name\":\"\",\"offsetgroup\":\"\",\"orientation\":\"v\",\"showlegend\":false,\"textposition\":\"auto\",\"texttemplate\":\"%{y}\",\"x\":[\"accessories\",\"tv, audio & cameras\",\"men's shoes\",\"women's clothing\",\"men's clothing\",\"stores\",\"appliances\",\"kids' fashion\",\"beauty & health\",\"home & kitchen\",\"bags & luggage\",\"sports & fitness\",\"women's shoes\",\"car & motorbike\",\"toys & baby products\",\"industrial supplies\",\"grocery & gourmet foods\",\"music\",\"pet supplies\"],\"xaxis\":\"x\",\"y\":[2238,1393,1305,1273,1235,598,539,241,212,192,182,167,120,99,88,41,30,25,22],\"yaxis\":\"y\",\"type\":\"bar\"}],                        {\"template\":{\"data\":{\"histogram2dcontour\":[{\"type\":\"histogram2dcontour\",\"colorbar\":{\"outlinewidth\":0,\"ticks\":\"\"},\"colorscale\":[[0.0,\"#0d0887\"],[0.1111111111111111,\"#46039f\"],[0.2222222222222222,\"#7201a8\"],[0.3333333333333333,\"#9c179e\"],[0.4444444444444444,\"#bd3786\"],[0.5555555555555556,\"#d8576b\"],[0.6666666666666666,\"#ed7953\"],[0.7777777777777778,\"#fb9f3a\"],[0.8888888888888888,\"#fdca26\"],[1.0,\"#f0f921\"]]}],\"choropleth\":[{\"type\":\"choropleth\",\"colorbar\":{\"outlinewidth\":0,\"ticks\":\"\"}}],\"histogram2d\":[{\"type\":\"histogram2d\",\"colorbar\":{\"outlinewidth\":0,\"ticks\":\"\"},\"colorscale\":[[0.0,\"#0d0887\"],[0.1111111111111111,\"#46039f\"],[0.2222222222222222,\"#7201a8\"],[0.3333333333333333,\"#9c179e\"],[0.4444444444444444,\"#bd3786\"],[0.5555555555555556,\"#d8576b\"],[0.6666666666666666,\"#ed7953\"],[0.7777777777777778,\"#fb9f3a\"],[0.8888888888888888,\"#fdca26\"],[1.0,\"#f0f921\"]]}],\"heatmap\":[{\"type\":\"heatmap\",\"colorbar\":{\"outlinewidth\":0,\"ticks\":\"\"},\"colorscale\":[[0.0,\"#0d0887\"],[0.1111111111111111,\"#46039f\"],[0.2222222222222222,\"#7201a8\"],[0.3333333333333333,\"#9c179e\"],[0.4444444444444444,\"#bd3786\"],[0.5555555555555556,\"#d8576b\"],[0.6666666666666666,\"#ed7953\"],[0.7777777777777778,\"#fb9f3a\"],[0.8888888888888888,\"#fdca26\"],[1.0,\"#f0f921\"]]}],\"heatmapgl\":[{\"type\":\"heatmapgl\",\"colorbar\":{\"outlinewidth\":0,\"ticks\":\"\"},\"colorscale\":[[0.0,\"#0d0887\"],[0.1111111111111111,\"#46039f\"],[0.2222222222222222,\"#7201a8\"],[0.3333333333333333,\"#9c179e\"],[0.4444444444444444,\"#bd3786\"],[0.5555555555555556,\"#d8576b\"],[0.6666666666666666,\"#ed7953\"],[0.7777777777777778,\"#fb9f3a\"],[0.8888888888888888,\"#fdca26\"],[1.0,\"#f0f921\"]]}],\"contourcarpet\":[{\"type\":\"contourcarpet\",\"colorbar\":{\"outlinewidth\":0,\"ticks\":\"\"}}],\"contour\":[{\"type\":\"contour\",\"colorbar\":{\"outlinewidth\":0,\"ticks\":\"\"},\"colorscale\":[[0.0,\"#0d0887\"],[0.1111111111111111,\"#46039f\"],[0.2222222222222222,\"#7201a8\"],[0.3333333333333333,\"#9c179e\"],[0.4444444444444444,\"#bd3786\"],[0.5555555555555556,\"#d8576b\"],[0.6666666666666666,\"#ed7953\"],[0.7777777777777778,\"#fb9f3a\"],[0.8888888888888888,\"#fdca26\"],[1.0,\"#f0f921\"]]}],\"surface\":[{\"type\":\"surface\",\"colorbar\":{\"outlinewidth\":0,\"ticks\":\"\"},\"colorscale\":[[0.0,\"#0d0887\"],[0.1111111111111111,\"#46039f\"],[0.2222222222222222,\"#7201a8\"],[0.3333333333333333,\"#9c179e\"],[0.4444444444444444,\"#bd3786\"],[0.5555555555555556,\"#d8576b\"],[0.6666666666666666,\"#ed7953\"],[0.7777777777777778,\"#fb9f3a\"],[0.8888888888888888,\"#fdca26\"],[1.0,\"#f0f921\"]]}],\"mesh3d\":[{\"type\":\"mesh3d\",\"colorbar\":{\"outlinewidth\":0,\"ticks\":\"\"}}],\"scatter\":[{\"fillpattern\":{\"fillmode\":\"overlay\",\"size\":10,\"solidity\":0.2},\"type\":\"scatter\"}],\"parcoords\":[{\"type\":\"parcoords\",\"line\":{\"colorbar\":{\"outlinewidth\":0,\"ticks\":\"\"}}}],\"scatterpolargl\":[{\"type\":\"scatterpolargl\",\"marker\":{\"colorbar\":{\"outlinewidth\":0,\"ticks\":\"\"}}}],\"bar\":[{\"error_x\":{\"color\":\"#2a3f5f\"},\"error_y\":{\"color\":\"#2a3f5f\"},\"marker\":{\"line\":{\"color\":\"#E5ECF6\",\"width\":0.5},\"pattern\":{\"fillmode\":\"overlay\",\"size\":10,\"solidity\":0.2}},\"type\":\"bar\"}],\"scattergeo\":[{\"type\":\"scattergeo\",\"marker\":{\"colorbar\":{\"outlinewidth\":0,\"ticks\":\"\"}}}],\"scatterpolar\":[{\"type\":\"scatterpolar\",\"marker\":{\"colorbar\":{\"outlinewidth\":0,\"ticks\":\"\"}}}],\"histogram\":[{\"marker\":{\"pattern\":{\"fillmode\":\"overlay\",\"size\":10,\"solidity\":0.2}},\"type\":\"histogram\"}],\"scattergl\":[{\"type\":\"scattergl\",\"marker\":{\"colorbar\":{\"outlinewidth\":0,\"ticks\":\"\"}}}],\"scatter3d\":[{\"type\":\"scatter3d\",\"line\":{\"colorbar\":{\"outlinewidth\":0,\"ticks\":\"\"}},\"marker\":{\"colorbar\":{\"outlinewidth\":0,\"ticks\":\"\"}}}],\"scattermapbox\":[{\"type\":\"scattermapbox\",\"marker\":{\"colorbar\":{\"outlinewidth\":0,\"ticks\":\"\"}}}],\"scatterternary\":[{\"type\":\"scatterternary\",\"marker\":{\"colorbar\":{\"outlinewidth\":0,\"ticks\":\"\"}}}],\"scattercarpet\":[{\"type\":\"scattercarpet\",\"marker\":{\"colorbar\":{\"outlinewidth\":0,\"ticks\":\"\"}}}],\"carpet\":[{\"aaxis\":{\"endlinecolor\":\"#2a3f5f\",\"gridcolor\":\"white\",\"linecolor\":\"white\",\"minorgridcolor\":\"white\",\"startlinecolor\":\"#2a3f5f\"},\"baxis\":{\"endlinecolor\":\"#2a3f5f\",\"gridcolor\":\"white\",\"linecolor\":\"white\",\"minorgridcolor\":\"white\",\"startlinecolor\":\"#2a3f5f\"},\"type\":\"carpet\"}],\"table\":[{\"cells\":{\"fill\":{\"color\":\"#EBF0F8\"},\"line\":{\"color\":\"white\"}},\"header\":{\"fill\":{\"color\":\"#C8D4E3\"},\"line\":{\"color\":\"white\"}},\"type\":\"table\"}],\"barpolar\":[{\"marker\":{\"line\":{\"color\":\"#E5ECF6\",\"width\":0.5},\"pattern\":{\"fillmode\":\"overlay\",\"size\":10,\"solidity\":0.2}},\"type\":\"barpolar\"}],\"pie\":[{\"automargin\":true,\"type\":\"pie\"}]},\"layout\":{\"autotypenumbers\":\"strict\",\"colorway\":[\"#636efa\",\"#EF553B\",\"#00cc96\",\"#ab63fa\",\"#FFA15A\",\"#19d3f3\",\"#FF6692\",\"#B6E880\",\"#FF97FF\",\"#FECB52\"],\"font\":{\"color\":\"#2a3f5f\"},\"hovermode\":\"closest\",\"hoverlabel\":{\"align\":\"left\"},\"paper_bgcolor\":\"white\",\"plot_bgcolor\":\"#E5ECF6\",\"polar\":{\"bgcolor\":\"#E5ECF6\",\"angularaxis\":{\"gridcolor\":\"white\",\"linecolor\":\"white\",\"ticks\":\"\"},\"radialaxis\":{\"gridcolor\":\"white\",\"linecolor\":\"white\",\"ticks\":\"\"}},\"ternary\":{\"bgcolor\":\"#E5ECF6\",\"aaxis\":{\"gridcolor\":\"white\",\"linecolor\":\"white\",\"ticks\":\"\"},\"baxis\":{\"gridcolor\":\"white\",\"linecolor\":\"white\",\"ticks\":\"\"},\"caxis\":{\"gridcolor\":\"white\",\"linecolor\":\"white\",\"ticks\":\"\"}},\"coloraxis\":{\"colorbar\":{\"outlinewidth\":0,\"ticks\":\"\"}},\"colorscale\":{\"sequential\":[[0.0,\"#0d0887\"],[0.1111111111111111,\"#46039f\"],[0.2222222222222222,\"#7201a8\"],[0.3333333333333333,\"#9c179e\"],[0.4444444444444444,\"#bd3786\"],[0.5555555555555556,\"#d8576b\"],[0.6666666666666666,\"#ed7953\"],[0.7777777777777778,\"#fb9f3a\"],[0.8888888888888888,\"#fdca26\"],[1.0,\"#f0f921\"]],\"sequentialminus\":[[0.0,\"#0d0887\"],[0.1111111111111111,\"#46039f\"],[0.2222222222222222,\"#7201a8\"],[0.3333333333333333,\"#9c179e\"],[0.4444444444444444,\"#bd3786\"],[0.5555555555555556,\"#d8576b\"],[0.6666666666666666,\"#ed7953\"],[0.7777777777777778,\"#fb9f3a\"],[0.8888888888888888,\"#fdca26\"],[1.0,\"#f0f921\"]],\"diverging\":[[0,\"#8e0152\"],[0.1,\"#c51b7d\"],[0.2,\"#de77ae\"],[0.3,\"#f1b6da\"],[0.4,\"#fde0ef\"],[0.5,\"#f7f7f7\"],[0.6,\"#e6f5d0\"],[0.7,\"#b8e186\"],[0.8,\"#7fbc41\"],[0.9,\"#4d9221\"],[1,\"#276419\"]]},\"xaxis\":{\"gridcolor\":\"white\",\"linecolor\":\"white\",\"ticks\":\"\",\"title\":{\"standoff\":15},\"zerolinecolor\":\"white\",\"automargin\":true,\"zerolinewidth\":2},\"yaxis\":{\"gridcolor\":\"white\",\"linecolor\":\"white\",\"ticks\":\"\",\"title\":{\"standoff\":15},\"zerolinecolor\":\"white\",\"automargin\":true,\"zerolinewidth\":2},\"scene\":{\"xaxis\":{\"backgroundcolor\":\"#E5ECF6\",\"gridcolor\":\"white\",\"linecolor\":\"white\",\"showbackground\":true,\"ticks\":\"\",\"zerolinecolor\":\"white\",\"gridwidth\":2},\"yaxis\":{\"backgroundcolor\":\"#E5ECF6\",\"gridcolor\":\"white\",\"linecolor\":\"white\",\"showbackground\":true,\"ticks\":\"\",\"zerolinecolor\":\"white\",\"gridwidth\":2},\"zaxis\":{\"backgroundcolor\":\"#E5ECF6\",\"gridcolor\":\"white\",\"linecolor\":\"white\",\"showbackground\":true,\"ticks\":\"\",\"zerolinecolor\":\"white\",\"gridwidth\":2}},\"shapedefaults\":{\"line\":{\"color\":\"#2a3f5f\"}},\"annotationdefaults\":{\"arrowcolor\":\"#2a3f5f\",\"arrowhead\":0,\"arrowwidth\":1},\"geo\":{\"bgcolor\":\"white\",\"landcolor\":\"#E5ECF6\",\"subunitcolor\":\"white\",\"showland\":true,\"showlakes\":true,\"lakecolor\":\"white\"},\"title\":{\"x\":0.05},\"mapbox\":{\"style\":\"light\"}}},\"xaxis\":{\"anchor\":\"y\",\"domain\":[0.0,1.0],\"title\":{\"text\":\"Category\"}},\"yaxis\":{\"anchor\":\"x\",\"domain\":[0.0,1.0],\"title\":{\"text\":\"Counts\"}},\"coloraxis\":{\"colorbar\":{\"title\":{\"text\":\"Counts\"}},\"colorscale\":[[0.0,\"rgb(255,245,240)\"],[0.125,\"rgb(254,224,210)\"],[0.25,\"rgb(252,187,161)\"],[0.375,\"rgb(252,146,114)\"],[0.5,\"rgb(251,106,74)\"],[0.625,\"rgb(239,59,44)\"],[0.75,\"rgb(203,24,29)\"],[0.875,\"rgb(165,15,21)\"],[1.0,\"rgb(103,0,13)\"]]},\"legend\":{\"tracegroupgap\":0},\"title\":{\"text\":\"Count of Items in Each Category\"},\"barmode\":\"relative\"},                        {\"responsive\": true}                    ).then(function(){\n",
       "                            \n",
       "var gd = document.getElementById('45500464-99da-4ba4-975d-404c1b2a80cb');\n",
       "var x = new MutationObserver(function (mutations, observer) {{\n",
       "        var display = window.getComputedStyle(gd).display;\n",
       "        if (!display || display === 'none') {{\n",
       "            console.log([gd, 'removed!']);\n",
       "            Plotly.purge(gd);\n",
       "            observer.disconnect();\n",
       "        }}\n",
       "}});\n",
       "\n",
       "// Listen for the removal of the full notebook cells\n",
       "var notebookContainer = gd.closest('#notebook-container');\n",
       "if (notebookContainer) {{\n",
       "    x.observe(notebookContainer, {childList: true});\n",
       "}}\n",
       "\n",
       "// Listen for the clearing of the current output cell\n",
       "var outputEl = gd.closest('.output');\n",
       "if (outputEl) {{\n",
       "    x.observe(outputEl, {childList: true});\n",
       "}}\n",
       "\n",
       "                        })                };                });            </script>        </div>"
      ]
     },
     "metadata": {},
     "output_type": "display_data"
    }
   ],
   "source": [
    "counts = sampled_dataset['main_category'].value_counts()\n",
    "count_percentage = sampled_dataset['main_category'].value_counts(1)*100\n",
    "counts_df = pd.DataFrame({'Category':counts.index,'Counts':counts.values,'Percent':np.round(count_percentage.values,2)})\n",
    "display(counts_df)\n",
    "px.bar(data_frame=counts_df,\n",
    " x='Category',\n",
    " y='Counts',\n",
    " color='Counts',\n",
    " color_continuous_scale='reds',\n",
    " text_auto=True,\n",
    " title=f'Count of Items in Each Category')"
   ]
  },
  {
   "cell_type": "code",
   "execution_count": 96,
   "id": "beb4fb1c",
   "metadata": {},
   "outputs": [],
   "source": [
    "# Define the columns to keep\n",
    "useful_columns = ['name', 'main_category', 'ratings', 'no_of_ratings' , 'actual_price' , 'discount_price']\n",
    "\n",
    "# Create a ColumnTransformer to select only useful columns\n",
    "ct = ColumnTransformer([('keep', 'passthrough', useful_columns)])\n",
    "\n",
    "# Fit and transform the dataset\n",
    "X = ct.fit_transform(sampled_dataset)\n",
    "\n",
    "# Convert X back to a dataframe\n",
    "sampled_dataset_df = pd.DataFrame(X, columns=useful_columns)"
   ]
  },
  {
   "cell_type": "code",
   "execution_count": 97,
   "id": "8254825d",
   "metadata": {},
   "outputs": [
    {
     "name": "stdout",
     "output_type": "stream",
     "text": [
      "                                                    ratings no_of_ratings\n",
      "name                                                                     \n",
      "Psalm 46: 10 - Purple Checkbook Cover (9.99)            4.9        1158.0\n",
      "SMALLRIG Camera A6400 A6100 Cage for Sony A6400...      4.8        1066.0\n",
      "Crocs Unisex Adult Orange Zing/Multi Classic Ti...      4.8         143.0\n",
      "CAIUL Compatible Mini 11 Camera Case Bundle wit...      4.8         243.0\n",
      "Music Nomad MN105 Fretboard Oil Cleaner and Con...      4.8        6414.0\n"
     ]
    }
   ],
   "source": [
    "# Calculate the average ratings and total counts of ratings for each product\n",
    "ratings_mean_count = pd.DataFrame(sampled_dataset_df.groupby(\"name\")[\"ratings\"].mean())\n",
    "ratings_mean_count[\"no_of_ratings\"] = sampled_dataset_df.groupby(\"name\")[\"no_of_ratings\"].sum()\n",
    "\n",
    "# Set the conditions for filtering the recommendations\n",
    "mean_rating_threshold = 4.5\n",
    "min_ratings_count = 100\n",
    "\n",
    "# Filter the recommendations based on the conditions\n",
    "filtered_recommendations = ratings_mean_count[\n",
    "    (ratings_mean_count[\"ratings\"] >= mean_rating_threshold) &\n",
    "    (ratings_mean_count[\"no_of_ratings\"] >= min_ratings_count)\n",
    "]\n",
    "\n",
    "# Sort the filtered recommendations by average ratings in descending order\n",
    "sorted_recommendations = filtered_recommendations.sort_values(by='ratings', ascending=False)\n",
    "\n",
    "# Select the top n recommendations\n",
    "n = 5\n",
    "top_recommendations = sorted_recommendations.head(n)\n",
    "\n",
    "# Display top_recommendations in descending order\n",
    "top_recommendations = top_recommendations.sort_values(by='ratings', ascending=False)\n",
    "print(top_recommendations)"
   ]
  },
  {
   "cell_type": "code",
   "execution_count": 98,
   "id": "38f66b3c",
   "metadata": {},
   "outputs": [
    {
     "data": {
      "image/png": "[encoded data removed]",
      "text/plain": [
       "<Figure size 800x600 with 1 Axes>"
      ]
     },
     "metadata": {},
     "output_type": "display_data"
    }
   ],
   "source": [
    "# Define the gradient colors\n",
    "colors = ['#FFC300', '#FF5733', '#C70039']\n",
    "\n",
    "plt.figure(figsize=(8, 6))\n",
    "plt.barh(top_recommendations.index, top_recommendations['ratings'], color=colors)\n",
    "\n",
    "plt.xlabel('Average Ratings')\n",
    "plt.ylabel('Product Name')\n",
    "plt.title('Top Recommendations based on Popularity')\n",
    "\n",
    "# Increase the font size of y-axis tick labels\n",
    "plt.tick_params(axis='y', labelsize=12)\n",
    "\n",
    "plt.show()"
   ]
  },
  {
   "cell_type": "code",
   "execution_count": 99,
   "id": "1b4558cb",
   "metadata": {},
   "outputs": [
    {
     "name": "stdout",
     "output_type": "stream",
     "text": [
      "Popularity-Based Filtering:\n",
      "RMSE: 0.0\n",
      "MAE: 0.0\n",
      "R2 Score: 1.0\n"
     ]
    }
   ],
   "source": [
    "# Calculate the performance metrics for popularity-based filtering\n",
    "popularity_actual_ratings = np.array(test_data['ratings'])\n",
    "popularity_predicted_ratings = np.array(sampled_dataset_df.loc[test_data.index]['ratings'])\n",
    "popularity_mse = mean_squared_error(popularity_actual_ratings, popularity_predicted_ratings)\n",
    "popularity_mae = mean_absolute_error(popularity_actual_ratings, popularity_predicted_ratings)\n",
    "popularity_r2 = r2_score(popularity_actual_ratings, popularity_predicted_ratings)\n",
    "\n",
    "# Print the performance metrics for popularity-based filtering\n",
    "print('Popularity-Based Filtering:')\n",
    "print('RMSE:', np.sqrt(popularity_mse))\n",
    "print('MAE:', popularity_mae)\n",
    "print('R2 Score:', popularity_r2)"
   ]
  },
  {
   "cell_type": "code",
   "execution_count": 100,
   "id": "dadf76cf",
   "metadata": {},
   "outputs": [],
   "source": [
    "# Content-based filtering\n",
    "\n",
    "# Select the relevant columns for content-based filtering\n",
    "content_columns = ['name', 'actual_price', 'discount_price', 'main_category', 'ratings']\n",
    "content_data = sampled_dataset[content_columns].copy()\n",
    "\n",
    "# Encode string features to numerical values\n",
    "label_encoder = LabelEncoder()\n",
    "content_data['name_encoded'] = label_encoder.fit_transform(content_data['name'])\n",
    "content_data['main_category_encoded'] = label_encoder.fit_transform(content_data['main_category'])\n",
    "\n",
    "# Create a dataframe with the price and encoded features\n",
    "features_df = content_data[['actual_price', 'discount_price', 'name_encoded', 'main_category_encoded']]\n",
    "\n",
    "# Compute cosine similarity matrix for the features\n",
    "features_similarities = cosine_similarity(features_df)"
   ]
  },
  {
   "cell_type": "code",
   "execution_count": 101,
   "id": "617d62b8",
   "metadata": {},
   "outputs": [],
   "source": [
    "# Function to get content-based recommendations based on product name\n",
    "def get_content_based_recommendations(product_name, num_recommendations):\n",
    "    # Find the index of the product with the given name\n",
    "    product_index = content_data[content_data['name'] == product_name].index\n",
    "    if len(product_index) == 0:\n",
    "        print(\"Product not found!\")\n",
    "        return None\n",
    "    product_index = product_index[0]\n",
    "\n",
    "    # Get the similarity scores for all products\n",
    "    similarity_scores = list(enumerate(features_similarities[product_index]))\n",
    "\n",
    "    # Sort the products based on the similarity scores\n",
    "    similarity_scores = sorted(similarity_scores, key=lambda x: x[1], reverse=True)\n",
    "\n",
    "    # Get the top similar products (excluding itself)\n",
    "    top_similar_products = similarity_scores[1:num_recommendations + 1]\n",
    "\n",
    "    # Get the indices of the top similar products\n",
    "    product_indices = [i[0] for i in top_similar_products]\n",
    "\n",
    "    # Return the recommended products\n",
    "    recommendations = content_data.iloc[product_indices]\n",
    "    return recommendations"
   ]
  },
  {
   "cell_type": "code",
   "execution_count": 102,
   "id": "97a46f1d",
   "metadata": {},
   "outputs": [
    {
     "name": "stdout",
     "output_type": "stream",
     "text": [
      "                                                   name  actual_price  \\\n",
      "2741  Satrani Women'S Art Silk Jacquard Saree With U...        3396.0   \n",
      "7966  LX Latest Sling Bag For Women Stylish & Trendy...        1999.0   \n",
      "7097  Pujia Mills Women's Floral Printed Georgett Pu...        3000.0   \n",
      "9964  LADY WILLINGTON Women Woolen V-Neck Self Desig...        1999.0   \n",
      "3579  SAIREIDER Travel Neck Pillow for Airplane Slee...        3246.0   \n",
      "\n",
      "      discount_price     main_category  ratings  name_encoded  \\\n",
      "2741           799.0  women's clothing      2.9          7216   \n",
      "7966           499.0       accessories      1.5          4346   \n",
      "7097           699.0  women's clothing      5.0          6272   \n",
      "9964           499.0  women's clothing      3.7          4232   \n",
      "3579           679.0       accessories      4.4          6847   \n",
      "\n",
      "      main_category_encoded  \n",
      "2741                     17  \n",
      "7966                      0  \n",
      "7097                     17  \n",
      "9964                     17  \n",
      "3579                      0  \n"
     ]
    }
   ],
   "source": [
    "# Call the function to get content-based recommendations for a product\n",
    "product_name = \"Psalm 46: 10 - Purple Checkbook Cover (9.99)\"  # Replace with the actual product name\n",
    "num_recommendations = 5  # Number of recommendations to display\n",
    "recommendations = get_content_based_recommendations(product_name, num_recommendations)\n",
    "\n",
    "# Display the top recommendations\n",
    "if recommendations is not None:\n",
    "    if 'text' in recommendations.columns:\n",
    "        recommendations = recommendations.drop('text', axis=1)\n",
    "    print(recommendations)"
   ]
  },
  {
   "cell_type": "code",
   "execution_count": 116,
   "id": "0ac8898a",
   "metadata": {},
   "outputs": [
    {
     "data": {
      "image/png": "[encoded data removed]",
      "text/plain": [
       "<Figure size 800x600 with 1 Axes>"
      ]
     },
     "metadata": {},
     "output_type": "display_data"
    }
   ],
   "source": [
    "# Visualize content-based recommendations\n",
    "colors = ['#228B22', '#AFE1AF', '#097969']\n",
    "plt.figure(figsize=(8, 6))\n",
    "plt.barh(recommendations['name'], recommendations['ratings'], color=colors)\n",
    "plt.xlabel('Product Name')\n",
    "plt.ylabel('Average Ratings')\n",
    "plt.title('Content-Based Recommendations')\n",
    "plt.xticks(rotation=90)\n",
    "plt.show()"
   ]
  },
  {
   "cell_type": "code",
   "execution_count": 103,
   "id": "b16cd318",
   "metadata": {},
   "outputs": [
    {
     "name": "stdout",
     "output_type": "stream",
     "text": [
      "Content-Based Filtering:\n",
      "RMSE: 0.8443820225466669\n",
      "MAE: 0.5546699999999999\n",
      "R2 Score: -1.0981236477519651\n"
     ]
    }
   ],
   "source": [
    "# Content-based filtering\n",
    "\n",
    "# Calculate the performance metrics for content-based filtering\n",
    "content_actual_ratings = []\n",
    "content_predicted_ratings = []\n",
    "\n",
    "for i, product_name in enumerate(test_data['name']):\n",
    "    recommendations = get_content_based_recommendations(product_name, num_recommendations=5)\n",
    "    if recommendations is not None:\n",
    "        content_actual_ratings.extend([test_data.iloc[i]['ratings']] * len(recommendations))\n",
    "        content_predicted_ratings.extend(recommendations['ratings'])\n",
    "\n",
    "content_mse = mean_squared_error(content_actual_ratings, content_predicted_ratings)\n",
    "content_mae = mean_absolute_error(content_actual_ratings, content_predicted_ratings)\n",
    "content_r2 = r2_score(content_actual_ratings, content_predicted_ratings)\n",
    "\n",
    "# Print the performance metrics for content-based filtering\n",
    "print('Content-Based Filtering:')\n",
    "print('RMSE:', np.sqrt(content_mse))\n",
    "print('MAE:', content_mae)\n",
    "print('R2 Score:', content_r2)\n"
   ]
  },
  {
   "cell_type": "code",
   "execution_count": 104,
   "id": "298f8d44",
   "metadata": {},
   "outputs": [],
   "source": [
    "def hybrid_recommendation(n=5):\n",
    "    # Popularity-based filtering\n",
    "    popularity_recs = sorted_recommendations.index.values.tolist()\n",
    "\n",
    "    # Content-based filtering\n",
    "    content_recs = get_content_based_recommendations(popularity_recs[0], n)\n",
    "\n",
    "    # Combine the results\n",
    "    hybrid_recs = popularity_recs + content_recs['name'].tolist()\n",
    "\n",
    "    # Remove duplicates\n",
    "    hybrid_recs = list(set(hybrid_recs))\n",
    "\n",
    "    # Select the final recommendations from the sampled_dataset\n",
    "    final_recommendations = sampled_dataset[sampled_dataset['name'].isin(hybrid_recs)]\n",
    "\n",
    "    # Sort the final recommendations by average ratings in descending order\n",
    "    final_recommendations = final_recommendations.sort_values(by='ratings', ascending=False)\n",
    "\n",
    "     # Return the top N recommendations\n",
    "    return final_recommendations[['name', 'actual_price', 'discount_price', 'main_category', 'ratings', 'no_of_ratings']].head(n)\n",
    "\n",
    "\n",
    "recommendations = hybrid_recommendation(n=5)  # Generate 5 hybrid recommendations"
   ]
  },
  {
   "cell_type": "code",
   "execution_count": 105,
   "id": "85cf75f2",
   "metadata": {},
   "outputs": [
    {
     "data": {
      "text/html": [
       "<div>\n",
       "<style scoped>\n",
       "    .dataframe tbody tr th:only-of-type {\n",
       "        vertical-align: middle;\n",
       "    }\n",
       "\n",
       "    .dataframe tbody tr th {\n",
       "        vertical-align: top;\n",
       "    }\n",
       "\n",
       "    .dataframe thead th {\n",
       "        text-align: right;\n",
       "    }\n",
       "</style>\n",
       "<table border=\"1\" class=\"dataframe\">\n",
       "  <thead>\n",
       "    <tr style=\"text-align: right;\">\n",
       "      <th></th>\n",
       "      <th>name</th>\n",
       "      <th>actual_price</th>\n",
       "      <th>discount_price</th>\n",
       "      <th>main_category</th>\n",
       "      <th>ratings</th>\n",
       "      <th>no_of_ratings</th>\n",
       "    </tr>\n",
       "  </thead>\n",
       "  <tbody>\n",
       "    <tr>\n",
       "      <th>7097</th>\n",
       "      <td>Pujia Mills Women's Floral Printed Georgett Pu...</td>\n",
       "      <td>3000.0</td>\n",
       "      <td>699.0</td>\n",
       "      <td>women's clothing</td>\n",
       "      <td>5.0</td>\n",
       "      <td>1.0</td>\n",
       "    </tr>\n",
       "    <tr>\n",
       "      <th>5437</th>\n",
       "      <td>Psalm 46: 10 - Purple Checkbook Cover (9.99)</td>\n",
       "      <td>2928.0</td>\n",
       "      <td>679.0</td>\n",
       "      <td>stores</td>\n",
       "      <td>4.9</td>\n",
       "      <td>1158.0</td>\n",
       "    </tr>\n",
       "    <tr>\n",
       "      <th>4986</th>\n",
       "      <td>Reading (Flash Card 4-pk)</td>\n",
       "      <td>1159.0</td>\n",
       "      <td>679.0</td>\n",
       "      <td>stores</td>\n",
       "      <td>4.8</td>\n",
       "      <td>2971.0</td>\n",
       "    </tr>\n",
       "    <tr>\n",
       "      <th>9756</th>\n",
       "      <td>Music Nomad MN105 Fretboard Oil Cleaner and Co...</td>\n",
       "      <td>3999.0</td>\n",
       "      <td>1959.0</td>\n",
       "      <td>music</td>\n",
       "      <td>4.8</td>\n",
       "      <td>6414.0</td>\n",
       "    </tr>\n",
       "    <tr>\n",
       "      <th>3199</th>\n",
       "      <td>Vandoren CR1025 Bb Clarinet Traditional Reeds ...</td>\n",
       "      <td>6200.0</td>\n",
       "      <td>2985.0</td>\n",
       "      <td>music</td>\n",
       "      <td>4.8</td>\n",
       "      <td>3698.0</td>\n",
       "    </tr>\n",
       "  </tbody>\n",
       "</table>\n",
       "</div>"
      ],
      "text/plain": [
       "                                                   name  actual_price  \\\n",
       "7097  Pujia Mills Women's Floral Printed Georgett Pu...        3000.0   \n",
       "5437       Psalm 46: 10 - Purple Checkbook Cover (9.99)        2928.0   \n",
       "4986                          Reading (Flash Card 4-pk)        1159.0   \n",
       "9756  Music Nomad MN105 Fretboard Oil Cleaner and Co...        3999.0   \n",
       "3199  Vandoren CR1025 Bb Clarinet Traditional Reeds ...        6200.0   \n",
       "\n",
       "      discount_price     main_category  ratings  no_of_ratings  \n",
       "7097           699.0  women's clothing      5.0            1.0  \n",
       "5437           679.0            stores      4.9         1158.0  \n",
       "4986           679.0            stores      4.8         2971.0  \n",
       "9756          1959.0             music      4.8         6414.0  \n",
       "3199          2985.0             music      4.8         3698.0  "
      ]
     },
     "execution_count": 105,
     "metadata": {},
     "output_type": "execute_result"
    }
   ],
   "source": [
    "recommendations"
   ]
  },
  {
   "cell_type": "code",
   "execution_count": 119,
   "id": "83c26727",
   "metadata": {},
   "outputs": [
    {
     "data": {
      "image/png": "[encoded data removed]",
      "text/plain": [
       "<Figure size 800x600 with 1 Axes>"
      ]
     },
     "metadata": {},
     "output_type": "display_data"
    }
   ],
   "source": [
    "# Visualize the recommendations as a horizontal bar chart\n",
    "colors = ['#C3B1E1', '#9F2B68', '#800080']\n",
    "plt.figure(figsize=(8, 6))\n",
    "plt.barh(recommendations['name'], recommendations['ratings'], color = colors)\n",
    "plt.xlabel('Average Ratings')\n",
    "plt.ylabel('Product Name')\n",
    "plt.title('Hybrid Recommendations')\n",
    "plt.show()"
   ]
  },
  {
   "cell_type": "code",
   "execution_count": 106,
   "id": "af6fb182",
   "metadata": {},
   "outputs": [],
   "source": [
    "# Train the hybrid recommender on the training set\n",
    "train_recommendations = hybrid_recommendation(n=5)"
   ]
  },
  {
   "cell_type": "code",
   "execution_count": 107,
   "id": "5d19e32f",
   "metadata": {},
   "outputs": [
    {
     "data": {
      "text/html": [
       "<div>\n",
       "<style scoped>\n",
       "    .dataframe tbody tr th:only-of-type {\n",
       "        vertical-align: middle;\n",
       "    }\n",
       "\n",
       "    .dataframe tbody tr th {\n",
       "        vertical-align: top;\n",
       "    }\n",
       "\n",
       "    .dataframe thead th {\n",
       "        text-align: right;\n",
       "    }\n",
       "</style>\n",
       "<table border=\"1\" class=\"dataframe\">\n",
       "  <thead>\n",
       "    <tr style=\"text-align: right;\">\n",
       "      <th></th>\n",
       "      <th>name</th>\n",
       "      <th>actual_price</th>\n",
       "      <th>discount_price</th>\n",
       "      <th>main_category</th>\n",
       "      <th>ratings</th>\n",
       "      <th>no_of_ratings</th>\n",
       "    </tr>\n",
       "  </thead>\n",
       "  <tbody>\n",
       "    <tr>\n",
       "      <th>7097</th>\n",
       "      <td>Pujia Mills Women's Floral Printed Georgett Pu...</td>\n",
       "      <td>3000.0</td>\n",
       "      <td>699.0</td>\n",
       "      <td>women's clothing</td>\n",
       "      <td>5.0</td>\n",
       "      <td>1.0</td>\n",
       "    </tr>\n",
       "    <tr>\n",
       "      <th>5437</th>\n",
       "      <td>Psalm 46: 10 - Purple Checkbook Cover (9.99)</td>\n",
       "      <td>2928.0</td>\n",
       "      <td>679.0</td>\n",
       "      <td>stores</td>\n",
       "      <td>4.9</td>\n",
       "      <td>1158.0</td>\n",
       "    </tr>\n",
       "    <tr>\n",
       "      <th>4986</th>\n",
       "      <td>Reading (Flash Card 4-pk)</td>\n",
       "      <td>1159.0</td>\n",
       "      <td>679.0</td>\n",
       "      <td>stores</td>\n",
       "      <td>4.8</td>\n",
       "      <td>2971.0</td>\n",
       "    </tr>\n",
       "    <tr>\n",
       "      <th>9756</th>\n",
       "      <td>Music Nomad MN105 Fretboard Oil Cleaner and Co...</td>\n",
       "      <td>3999.0</td>\n",
       "      <td>1959.0</td>\n",
       "      <td>music</td>\n",
       "      <td>4.8</td>\n",
       "      <td>6414.0</td>\n",
       "    </tr>\n",
       "    <tr>\n",
       "      <th>3199</th>\n",
       "      <td>Vandoren CR1025 Bb Clarinet Traditional Reeds ...</td>\n",
       "      <td>6200.0</td>\n",
       "      <td>2985.0</td>\n",
       "      <td>music</td>\n",
       "      <td>4.8</td>\n",
       "      <td>3698.0</td>\n",
       "    </tr>\n",
       "  </tbody>\n",
       "</table>\n",
       "</div>"
      ],
      "text/plain": [
       "                                                   name  actual_price  \\\n",
       "7097  Pujia Mills Women's Floral Printed Georgett Pu...        3000.0   \n",
       "5437       Psalm 46: 10 - Purple Checkbook Cover (9.99)        2928.0   \n",
       "4986                          Reading (Flash Card 4-pk)        1159.0   \n",
       "9756  Music Nomad MN105 Fretboard Oil Cleaner and Co...        3999.0   \n",
       "3199  Vandoren CR1025 Bb Clarinet Traditional Reeds ...        6200.0   \n",
       "\n",
       "      discount_price     main_category  ratings  no_of_ratings  \n",
       "7097           699.0  women's clothing      5.0            1.0  \n",
       "5437           679.0            stores      4.9         1158.0  \n",
       "4986           679.0            stores      4.8         2971.0  \n",
       "9756          1959.0             music      4.8         6414.0  \n",
       "3199          2985.0             music      4.8         3698.0  "
      ]
     },
     "execution_count": 107,
     "metadata": {},
     "output_type": "execute_result"
    }
   ],
   "source": [
    "train_recommendations"
   ]
  },
  {
   "cell_type": "code",
   "execution_count": 108,
   "id": "e2d65a84",
   "metadata": {},
   "outputs": [],
   "source": [
    "# Evaluate the hybrid recommender on the test data\n",
    "test_recommendations = []\n",
    "for i, product_name in enumerate(test_data['name']):\n",
    "    train_product_names = train_data['name'].tolist()\n",
    "    if product_name in train_product_names:\n",
    "        recommendations = get_content_based_recommendations(product_name, num_recommendations=5)\n",
    "        if recommendations is not None:\n",
    "            test_recommendations.append(recommendations)\n",
    "\n",
    "# Calculate the performance metrics for the recommendations\n",
    "mse_scores = []\n",
    "mae_scores = []\n",
    "r2_scores = []\n",
    "\n",
    "for i, recommendations in enumerate(test_recommendations):\n",
    "    if i < len(test_recommendations):\n",
    "        actual_ratings = np.array([test_data.iloc[i]['ratings']] * len(recommendations))\n",
    "        predicted_ratings = np.array(recommendations['ratings'])\n",
    "        mse_scores.append(mean_squared_error(actual_ratings, predicted_ratings))\n",
    "        mae_scores.append(mean_absolute_error(actual_ratings, predicted_ratings))\n",
    "        r2_scores.append(r2_score(actual_ratings, predicted_ratings))\n",
    "    else:\n",
    "        print(\"Error: Index out of bounds\")"
   ]
  },
  {
   "cell_type": "code",
   "execution_count": 109,
   "id": "f3d6964a",
   "metadata": {},
   "outputs": [
    {
     "name": "stdout",
     "output_type": "stream",
     "text": [
      "Average RMSE: 0.5946241150157078\n",
      "Average MAE: 0.4824390243902439\n",
      "Average R2 Score: 0.08943089430894309\n"
     ]
    }
   ],
   "source": [
    "# Calculate and print the average performance metrics\n",
    "mean_rmse = np.mean(np.sqrt(mse_scores))\n",
    "mean_mae = np.mean(mae_scores)\n",
    "mean_r2 = np.mean(r2_scores)\n",
    "\n",
    "print('Average RMSE:', mean_rmse)\n",
    "print('Average MAE:', mean_mae)\n",
    "print('Average R2 Score:', mean_r2)\n"
   ]
  },
  {
   "cell_type": "code",
   "execution_count": 110,
   "id": "1e305775",
   "metadata": {},
   "outputs": [
    {
     "data": {
      "image/png": "[encoded data removed]",
      "text/plain": [
       "<Figure size 800x600 with 2 Axes>"
      ]
     },
     "metadata": {},
     "output_type": "display_data"
    }
   ],
   "source": [
    "\n",
    "\n",
    "# Example data for each filtering technique\n",
    "popularity_rmse = 0.0\n",
    "popularity_mae = 0.0\n",
    "popularity_r2 = 1.0\n",
    "\n",
    "content_rmse = 0.844\n",
    "content_mae = 0.555\n",
    "content_r2 = -1.098\n",
    "\n",
    "hybrid_rmse = 0.595\n",
    "hybrid_mae = 0.482\n",
    "hybrid_r2 = 0.089\n",
    "\n",
    "# Create a list of lists for the performance metrics\n",
    "data = [\n",
    "    [popularity_rmse, popularity_mae, popularity_r2],\n",
    "    [content_rmse, content_mae, content_r2],\n",
    "    [hybrid_rmse, hybrid_mae, hybrid_r2]\n",
    "]\n",
    "\n",
    "# Define the labels for filtering techniques and metrics\n",
    "labels = ['Popularity-Based', 'Content-Based', 'Hybrid Approach']\n",
    "metrics = ['RMSE', 'MAE', 'R2 Score']\n",
    "\n",
    "# Create a heatmap using Seaborn\n",
    "fig, ax = plt.subplots(figsize=(8, 6))\n",
    "sns.heatmap(data, annot=True, cmap='YlGnBu', fmt=\".3f\", xticklabels=metrics, yticklabels=labels, ax=ax)\n",
    "ax.set_title('Performance of Recommendation System Filtering Techniques')\n",
    "ax.set_xlabel('Metrics')\n",
    "ax.set_ylabel('Filtering Techniques')\n",
    "\n",
    "plt.show()\n"
   ]
  },
  {
   "cell_type": "code",
   "execution_count": null,
   "id": "7a5e4bd3",
   "metadata": {},
   "outputs": [],
   "source": []
  }
 ],
 "metadata": {
  "kernelspec": {
   "display_name": "Python 3 (ipykernel)",
   "language": "python",
   "name": "python3"
  },
  "language_info": {
   "codemirror_mode": {
    "name": "ipython",
    "version": 3
   },
   "file_extension": ".py",
   "mimetype": "text/x-python",
   "name": "python",
   "nbconvert_exporter": "python",
   "pygments_lexer": "ipython3",
   "version": "3.9.16"
  }
 },
 "nbformat": 4,
 "nbformat_minor": 5
}
